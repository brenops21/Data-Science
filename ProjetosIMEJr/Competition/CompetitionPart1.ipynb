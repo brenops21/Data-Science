{
 "cells": [
  {
   "cell_type": "markdown",
   "id": "6dace06e",
   "metadata": {},
   "source": [
    "### That's my first experience with pandas, numpy and jupyter notebook, hope to improve someday! Thank you so much for reading."
   ]
  },
  {
   "cell_type": "code",
   "execution_count": 13,
   "id": "a4201f8f",
   "metadata": {},
   "outputs": [],
   "source": [
    "import pandas as pd\n",
    "import numpy as np"
   ]
  },
  {
   "cell_type": "markdown",
   "id": "3c40d28e",
   "metadata": {},
   "source": [
    "# Cleaning the data"
   ]
  },
  {
   "cell_type": "markdown",
   "id": "1fa8f755",
   "metadata": {},
   "source": [
    "#### First of all, I will start by changing the date of my csv from a string to a data type. "
   ]
  },
  {
   "cell_type": "code",
   "execution_count": 14,
   "id": "53d15900",
   "metadata": {},
   "outputs": [
    {
     "name": "stderr",
     "output_type": "stream",
     "text": [
      "C:\\Users\\breno\\AppData\\Local\\Temp\\ipykernel_12324\\3715823091.py:1: FutureWarning: The pandas.datetime class is deprecated and will be removed from pandas in a future version. Import from datetime module instead.\n",
      "  d_parser = lambda x: pd.datetime.strptime(x, '%d/%m/%Y')\n"
     ]
    }
   ],
   "source": [
    "d_parser = lambda x: pd.datetime.strptime(x, '%d/%m/%Y')\n",
    "df = pd.read_csv('data/fase_01.csv', parse_dates=['Data'], date_parser=d_parser)"
   ]
  },
  {
   "cell_type": "code",
   "execution_count": 15,
   "id": "1968e574",
   "metadata": {},
   "outputs": [
    {
     "data": {
      "text/plain": [
       "(230, 16)"
      ]
     },
     "execution_count": 15,
     "metadata": {},
     "output_type": "execute_result"
    }
   ],
   "source": [
    "df.shape"
   ]
  },
  {
   "cell_type": "markdown",
   "id": "24827f6c",
   "metadata": {},
   "source": [
    "#### Then exclude dates that pass the current day"
   ]
  },
  {
   "cell_type": "code",
   "execution_count": 16,
   "id": "932a978e",
   "metadata": {},
   "outputs": [],
   "source": [
    "filt = df['Data'] <= '2022-02-24'\n",
    "df = df[filt]"
   ]
  },
  {
   "cell_type": "code",
   "execution_count": 17,
   "id": "b98d379d",
   "metadata": {},
   "outputs": [
    {
     "data": {
      "text/html": [
       "<div>\n",
       "<style scoped>\n",
       "    .dataframe tbody tr th:only-of-type {\n",
       "        vertical-align: middle;\n",
       "    }\n",
       "\n",
       "    .dataframe tbody tr th {\n",
       "        vertical-align: top;\n",
       "    }\n",
       "\n",
       "    .dataframe thead th {\n",
       "        text-align: right;\n",
       "    }\n",
       "</style>\n",
       "<table border=\"1\" class=\"dataframe\">\n",
       "  <thead>\n",
       "    <tr style=\"text-align: right;\">\n",
       "      <th></th>\n",
       "      <th>Nome do Post</th>\n",
       "      <th>Data</th>\n",
       "      <th>Criativo</th>\n",
       "      <th>Posicionamento</th>\n",
       "      <th>Plataforma</th>\n",
       "      <th>Formato</th>\n",
       "      <th>Conteúdo</th>\n",
       "      <th>Alcance</th>\n",
       "      <th>Impressões</th>\n",
       "      <th>Saves</th>\n",
       "      <th>Cliques em Link</th>\n",
       "      <th>3-Sec-View</th>\n",
       "      <th>Visualizações 100%</th>\n",
       "      <th>Comentários</th>\n",
       "      <th>Reações</th>\n",
       "      <th>Compartilhamentos</th>\n",
       "    </tr>\n",
       "  </thead>\n",
       "  <tbody>\n",
       "    <tr>\n",
       "      <th>0</th>\n",
       "      <td>Amostragem_Imagem_Feed_LinkedIn_150721</td>\n",
       "      <td>2021-07-15</td>\n",
       "      <td>Amostragem</td>\n",
       "      <td>Feed</td>\n",
       "      <td>LinkedIn</td>\n",
       "      <td>Imagem</td>\n",
       "      <td>NaN</td>\n",
       "      <td>NaN</td>\n",
       "      <td>NaN</td>\n",
       "      <td>0.0</td>\n",
       "      <td>108.0</td>\n",
       "      <td>0.0</td>\n",
       "      <td>NaN</td>\n",
       "      <td>0</td>\n",
       "      <td>15.0</td>\n",
       "      <td>0.0</td>\n",
       "    </tr>\n",
       "    <tr>\n",
       "      <th>1</th>\n",
       "      <td>AulõesFuvest_Imagem_Stories_Instagram_201221</td>\n",
       "      <td>2021-12-20</td>\n",
       "      <td>AulõesFuvest</td>\n",
       "      <td>Stories</td>\n",
       "      <td>Instagram</td>\n",
       "      <td>Imagem</td>\n",
       "      <td>NaN</td>\n",
       "      <td>116.0</td>\n",
       "      <td>119.0</td>\n",
       "      <td>NaN</td>\n",
       "      <td>NaN</td>\n",
       "      <td>NaN</td>\n",
       "      <td>NaN</td>\n",
       "      <td>0</td>\n",
       "      <td>NaN</td>\n",
       "      <td>1.0</td>\n",
       "    </tr>\n",
       "    <tr>\n",
       "      <th>2</th>\n",
       "      <td>BingoDoEstudante_Vídeo_Stories_Instagram_110821</td>\n",
       "      <td>2021-08-11</td>\n",
       "      <td>BingoDoEstudante</td>\n",
       "      <td>Stories</td>\n",
       "      <td>Instagram</td>\n",
       "      <td>Vídeo</td>\n",
       "      <td>NaN</td>\n",
       "      <td>93.0</td>\n",
       "      <td>NaN</td>\n",
       "      <td>0.0</td>\n",
       "      <td>0.0</td>\n",
       "      <td>0.0</td>\n",
       "      <td>0.0</td>\n",
       "      <td>0</td>\n",
       "      <td>0.0</td>\n",
       "      <td>0.0</td>\n",
       "    </tr>\n",
       "    <tr>\n",
       "      <th>3</th>\n",
       "      <td>BoaProvaFuvest_Imagem_Stories_Instagram_111221</td>\n",
       "      <td>2021-12-11</td>\n",
       "      <td>BoaProvaFuvest</td>\n",
       "      <td>Stories</td>\n",
       "      <td>Instagram</td>\n",
       "      <td>Imagem</td>\n",
       "      <td>NaN</td>\n",
       "      <td>75.0</td>\n",
       "      <td>75.0</td>\n",
       "      <td>NaN</td>\n",
       "      <td>NaN</td>\n",
       "      <td>NaN</td>\n",
       "      <td>NaN</td>\n",
       "      <td>0</td>\n",
       "      <td>NaN</td>\n",
       "      <td>0.0</td>\n",
       "    </tr>\n",
       "    <tr>\n",
       "      <th>4</th>\n",
       "      <td>CuriosidadesArcane(1)_Imagem_Stories_Instagram...</td>\n",
       "      <td>2021-12-03</td>\n",
       "      <td>CuriosidadesArcane(1)</td>\n",
       "      <td>Stories</td>\n",
       "      <td>Instagram</td>\n",
       "      <td>Imagem</td>\n",
       "      <td>NaN</td>\n",
       "      <td>84.0</td>\n",
       "      <td>88.0</td>\n",
       "      <td>NaN</td>\n",
       "      <td>NaN</td>\n",
       "      <td>NaN</td>\n",
       "      <td>NaN</td>\n",
       "      <td>1</td>\n",
       "      <td>NaN</td>\n",
       "      <td>1.0</td>\n",
       "    </tr>\n",
       "    <tr>\n",
       "      <th>...</th>\n",
       "      <td>...</td>\n",
       "      <td>...</td>\n",
       "      <td>...</td>\n",
       "      <td>...</td>\n",
       "      <td>...</td>\n",
       "      <td>...</td>\n",
       "      <td>...</td>\n",
       "      <td>...</td>\n",
       "      <td>...</td>\n",
       "      <td>...</td>\n",
       "      <td>...</td>\n",
       "      <td>...</td>\n",
       "      <td>...</td>\n",
       "      <td>...</td>\n",
       "      <td>...</td>\n",
       "      <td>...</td>\n",
       "    </tr>\n",
       "    <tr>\n",
       "      <th>225</th>\n",
       "      <td>Vale-PresenteResultado(5)_Vídeo_Stories_Instag...</td>\n",
       "      <td>2021-11-11</td>\n",
       "      <td>Vale-PresenteResultado(5)</td>\n",
       "      <td>Stories</td>\n",
       "      <td>Instagram</td>\n",
       "      <td>Vídeo</td>\n",
       "      <td>NaN</td>\n",
       "      <td>87.0</td>\n",
       "      <td>88.0</td>\n",
       "      <td>NaN</td>\n",
       "      <td>NaN</td>\n",
       "      <td>NaN</td>\n",
       "      <td>NaN</td>\n",
       "      <td>1</td>\n",
       "      <td>NaN</td>\n",
       "      <td>0.0</td>\n",
       "    </tr>\n",
       "    <tr>\n",
       "      <th>226</th>\n",
       "      <td>Vale-PresenteResultado(6)_Imagem_Stories_Insta...</td>\n",
       "      <td>2021-11-11</td>\n",
       "      <td>Vale-PresenteResultado(6)</td>\n",
       "      <td>Stories</td>\n",
       "      <td>Instagram</td>\n",
       "      <td>Imagem</td>\n",
       "      <td>NaN</td>\n",
       "      <td>89.0</td>\n",
       "      <td>90.0</td>\n",
       "      <td>NaN</td>\n",
       "      <td>NaN</td>\n",
       "      <td>NaN</td>\n",
       "      <td>NaN</td>\n",
       "      <td>2</td>\n",
       "      <td>NaN</td>\n",
       "      <td>1.0</td>\n",
       "    </tr>\n",
       "    <tr>\n",
       "      <th>227</th>\n",
       "      <td>VoltasAulasUSP_Vídeo_Stories_Instagram_160821</td>\n",
       "      <td>2021-08-16</td>\n",
       "      <td>VoltasAulasUSP</td>\n",
       "      <td>Storie</td>\n",
       "      <td>Instagram</td>\n",
       "      <td>Vídeo</td>\n",
       "      <td>NaN</td>\n",
       "      <td>49.0</td>\n",
       "      <td>49.0</td>\n",
       "      <td>0.0</td>\n",
       "      <td>0.0</td>\n",
       "      <td>0.0</td>\n",
       "      <td>0.0</td>\n",
       "      <td>1</td>\n",
       "      <td>0.0</td>\n",
       "      <td>0.0</td>\n",
       "    </tr>\n",
       "    <tr>\n",
       "      <th>228</th>\n",
       "      <td>XadrezNoIME(1)_Imagem_Feed_LinkedIn_300721</td>\n",
       "      <td>2021-07-30</td>\n",
       "      <td>XadrezNoIME(1)</td>\n",
       "      <td>Feed</td>\n",
       "      <td>Linkedin</td>\n",
       "      <td>Imagem</td>\n",
       "      <td>NaN</td>\n",
       "      <td>NaN</td>\n",
       "      <td>348.0</td>\n",
       "      <td>0.0</td>\n",
       "      <td>79.0</td>\n",
       "      <td>0.0</td>\n",
       "      <td>NaN</td>\n",
       "      <td>0</td>\n",
       "      <td>18.0</td>\n",
       "      <td>0.0</td>\n",
       "    </tr>\n",
       "    <tr>\n",
       "      <th>229</th>\n",
       "      <td>XadrezNoIME(2)_Imagem_Feed_LinkedIn_050821</td>\n",
       "      <td>2021-08-05</td>\n",
       "      <td>XadrezNoIME(2)</td>\n",
       "      <td>Feed</td>\n",
       "      <td>LinkedIn</td>\n",
       "      <td>Imagem</td>\n",
       "      <td>NaN</td>\n",
       "      <td>NaN</td>\n",
       "      <td>246.0</td>\n",
       "      <td>0.0</td>\n",
       "      <td>33.0</td>\n",
       "      <td>0.0</td>\n",
       "      <td>NaN</td>\n",
       "      <td>0</td>\n",
       "      <td>10.0</td>\n",
       "      <td>NaN</td>\n",
       "    </tr>\n",
       "  </tbody>\n",
       "</table>\n",
       "<p>224 rows × 16 columns</p>\n",
       "</div>"
      ],
      "text/plain": [
       "                                          Nome do Post       Data  \\\n",
       "0               Amostragem_Imagem_Feed_LinkedIn_150721 2021-07-15   \n",
       "1         AulõesFuvest_Imagem_Stories_Instagram_201221 2021-12-20   \n",
       "2      BingoDoEstudante_Vídeo_Stories_Instagram_110821 2021-08-11   \n",
       "3       BoaProvaFuvest_Imagem_Stories_Instagram_111221 2021-12-11   \n",
       "4    CuriosidadesArcane(1)_Imagem_Stories_Instagram... 2021-12-03   \n",
       "..                                                 ...        ...   \n",
       "225  Vale-PresenteResultado(5)_Vídeo_Stories_Instag... 2021-11-11   \n",
       "226  Vale-PresenteResultado(6)_Imagem_Stories_Insta... 2021-11-11   \n",
       "227      VoltasAulasUSP_Vídeo_Stories_Instagram_160821 2021-08-16   \n",
       "228         XadrezNoIME(1)_Imagem_Feed_LinkedIn_300721 2021-07-30   \n",
       "229         XadrezNoIME(2)_Imagem_Feed_LinkedIn_050821 2021-08-05   \n",
       "\n",
       "                      Criativo Posicionamento Plataforma Formato  Conteúdo  \\\n",
       "0                   Amostragem           Feed   LinkedIn  Imagem       NaN   \n",
       "1                 AulõesFuvest        Stories  Instagram  Imagem       NaN   \n",
       "2             BingoDoEstudante        Stories  Instagram   Vídeo       NaN   \n",
       "3               BoaProvaFuvest        Stories  Instagram  Imagem       NaN   \n",
       "4        CuriosidadesArcane(1)        Stories  Instagram  Imagem       NaN   \n",
       "..                         ...            ...        ...     ...       ...   \n",
       "225  Vale-PresenteResultado(5)        Stories  Instagram   Vídeo       NaN   \n",
       "226  Vale-PresenteResultado(6)        Stories  Instagram  Imagem       NaN   \n",
       "227             VoltasAulasUSP         Storie  Instagram   Vídeo       NaN   \n",
       "228             XadrezNoIME(1)           Feed   Linkedin  Imagem       NaN   \n",
       "229             XadrezNoIME(2)           Feed   LinkedIn  Imagem       NaN   \n",
       "\n",
       "     Alcance  Impressões  Saves  Cliques em Link  3-Sec-View  \\\n",
       "0        NaN         NaN    0.0            108.0         0.0   \n",
       "1      116.0       119.0    NaN              NaN         NaN   \n",
       "2       93.0         NaN    0.0              0.0         0.0   \n",
       "3       75.0        75.0    NaN              NaN         NaN   \n",
       "4       84.0        88.0    NaN              NaN         NaN   \n",
       "..       ...         ...    ...              ...         ...   \n",
       "225     87.0        88.0    NaN              NaN         NaN   \n",
       "226     89.0        90.0    NaN              NaN         NaN   \n",
       "227     49.0        49.0    0.0              0.0         0.0   \n",
       "228      NaN       348.0    0.0             79.0         0.0   \n",
       "229      NaN       246.0    0.0             33.0         0.0   \n",
       "\n",
       "     Visualizações 100%  Comentários  Reações  Compartilhamentos  \n",
       "0                   NaN            0     15.0                0.0  \n",
       "1                   NaN            0      NaN                1.0  \n",
       "2                   0.0            0      0.0                0.0  \n",
       "3                   NaN            0      NaN                0.0  \n",
       "4                   NaN            1      NaN                1.0  \n",
       "..                  ...          ...      ...                ...  \n",
       "225                 NaN            1      NaN                0.0  \n",
       "226                 NaN            2      NaN                1.0  \n",
       "227                 0.0            1      0.0                0.0  \n",
       "228                 NaN            0     18.0                0.0  \n",
       "229                 NaN            0     10.0                NaN  \n",
       "\n",
       "[224 rows x 16 columns]"
      ]
     },
     "execution_count": 17,
     "metadata": {},
     "output_type": "execute_result"
    }
   ],
   "source": [
    "df"
   ]
  },
  {
   "cell_type": "markdown",
   "id": "08428ae9",
   "metadata": {},
   "source": [
    "#### As we can see, there are lots of missing values so I will start by counting then and judge if there is relevance on the data, if there is no relevance I will exclude them. I will also count if there are any duplicates."
   ]
  },
  {
   "cell_type": "code",
   "execution_count": 18,
   "id": "dcab7389",
   "metadata": {},
   "outputs": [
    {
     "data": {
      "text/plain": [
       "Conteúdo              224\n",
       "Visualizações 100%     83\n",
       "Cliques em Link        55\n",
       "3-Sec-View             48\n",
       "Saves                  40\n",
       "Reações                40\n",
       "Alcance                23\n",
       "Impressões              6\n",
       "Compartilhamentos       5\n",
       "Nome do Post            0\n",
       "Data                    0\n",
       "Criativo                0\n",
       "Posicionamento          0\n",
       "Plataforma              0\n",
       "Formato                 0\n",
       "Comentários             0\n",
       "dtype: int64"
      ]
     },
     "execution_count": 18,
     "metadata": {},
     "output_type": "execute_result"
    }
   ],
   "source": [
    "df.replace('', np.nan, inplace=True)\n",
    "df.isnull().sum().sort_values(ascending=False)"
   ]
  },
  {
   "cell_type": "code",
   "execution_count": 19,
   "id": "53a7ab67",
   "metadata": {},
   "outputs": [
    {
     "data": {
      "text/plain": [
       "Conteúdo              1.000000\n",
       "Visualizações 100%    0.370536\n",
       "Cliques em Link       0.245536\n",
       "3-Sec-View            0.214286\n",
       "Saves                 0.178571\n",
       "Reações               0.178571\n",
       "Alcance               0.102679\n",
       "Impressões            0.026786\n",
       "Compartilhamentos     0.022321\n",
       "Nome do Post          0.000000\n",
       "Data                  0.000000\n",
       "Criativo              0.000000\n",
       "Posicionamento        0.000000\n",
       "Plataforma            0.000000\n",
       "Formato               0.000000\n",
       "Comentários           0.000000\n",
       "dtype: float64"
      ]
     },
     "execution_count": 19,
     "metadata": {},
     "output_type": "execute_result"
    }
   ],
   "source": [
    "df.isna().mean().sort_values(ascending=False)"
   ]
  },
  {
   "cell_type": "code",
   "execution_count": 20,
   "id": "be43bbc8",
   "metadata": {},
   "outputs": [],
   "source": [
    "df = df.drop(columns='Conteúdo')"
   ]
  },
  {
   "cell_type": "code",
   "execution_count": 21,
   "id": "e10cf3c3",
   "metadata": {},
   "outputs": [
    {
     "data": {
      "text/plain": [
       "0"
      ]
     },
     "execution_count": 21,
     "metadata": {},
     "output_type": "execute_result"
    }
   ],
   "source": [
    "df.duplicated(subset=['Nome do Post']).sum()"
   ]
  },
  {
   "cell_type": "code",
   "execution_count": 22,
   "id": "a041099a",
   "metadata": {},
   "outputs": [
    {
     "data": {
      "text/plain": [
       "(224, 15)"
      ]
     },
     "execution_count": 22,
     "metadata": {},
     "output_type": "execute_result"
    }
   ],
   "source": [
    "df.shape"
   ]
  },
  {
   "cell_type": "markdown",
   "id": "3ababfd0",
   "metadata": {},
   "source": [
    "# What is the most reacted post?"
   ]
  },
  {
   "cell_type": "code",
   "execution_count": 23,
   "id": "9f18bb8f",
   "metadata": {},
   "outputs": [],
   "source": [
    "df_react = df.loc[:,['Nome do Post', 'Reações']]"
   ]
  },
  {
   "cell_type": "code",
   "execution_count": 24,
   "id": "6e0898ec",
   "metadata": {},
   "outputs": [
    {
     "data": {
      "text/html": [
       "<div>\n",
       "<style scoped>\n",
       "    .dataframe tbody tr th:only-of-type {\n",
       "        vertical-align: middle;\n",
       "    }\n",
       "\n",
       "    .dataframe tbody tr th {\n",
       "        vertical-align: top;\n",
       "    }\n",
       "\n",
       "    .dataframe thead th {\n",
       "        text-align: right;\n",
       "    }\n",
       "</style>\n",
       "<table border=\"1\" class=\"dataframe\">\n",
       "  <thead>\n",
       "    <tr style=\"text-align: right;\">\n",
       "      <th></th>\n",
       "      <th>Nome do Post</th>\n",
       "      <th>Reações</th>\n",
       "    </tr>\n",
       "  </thead>\n",
       "  <tbody>\n",
       "    <tr>\n",
       "      <th>109</th>\n",
       "      <td>DiaDaPizza(2)_Vídeo_Stories_Instagram_100721</td>\n",
       "      <td>99999.0</td>\n",
       "    </tr>\n",
       "  </tbody>\n",
       "</table>\n",
       "</div>"
      ],
      "text/plain": [
       "                                     Nome do Post  Reações\n",
       "109  DiaDaPizza(2)_Vídeo_Stories_Instagram_100721  99999.0"
      ]
     },
     "execution_count": 24,
     "metadata": {},
     "output_type": "execute_result"
    }
   ],
   "source": [
    "df_react = df_react.dropna()\n",
    "df_react[df_react.Reações == df_react.Reações.max()]"
   ]
  },
  {
   "cell_type": "code",
   "execution_count": 25,
   "id": "4aa2fce0",
   "metadata": {},
   "outputs": [
    {
     "data": {
      "text/plain": [
       "Reações    568.940217\n",
       "dtype: float64"
      ]
     },
     "execution_count": 25,
     "metadata": {},
     "output_type": "execute_result"
    }
   ],
   "source": [
    "df_react.loc[:,['Reações']].mean()"
   ]
  },
  {
   "cell_type": "markdown",
   "id": "891aa4a8",
   "metadata": {},
   "source": [
    "#### Here we can cleary see some strange data (so much beyond the mean of the reactions), it don't seems like an outlier but seems like a bug, so what i'm going to do is exclude it and repeat the same process"
   ]
  },
  {
   "cell_type": "code",
   "execution_count": 26,
   "id": "3cdac481",
   "metadata": {},
   "outputs": [
    {
     "data": {
      "text/plain": [
       "Nome do Post    XadrezNoIME(2)_Imagem_Feed_LinkedIn_050821\n",
       "Reações                                             1899.0\n",
       "dtype: object"
      ]
     },
     "execution_count": 26,
     "metadata": {},
     "output_type": "execute_result"
    }
   ],
   "source": [
    "df_react.drop([109]).max()"
   ]
  },
  {
   "cell_type": "markdown",
   "id": "1f5263ab",
   "metadata": {},
   "source": [
    "#### Now we can see that the LinkedIn post about chess seems to be the real most reacted post."
   ]
  },
  {
   "cell_type": "markdown",
   "id": "90d8434b",
   "metadata": {},
   "source": [
    "# What is the most commented post?"
   ]
  },
  {
   "cell_type": "code",
   "execution_count": 27,
   "id": "49ce5c35",
   "metadata": {},
   "outputs": [],
   "source": [
    "df_coment = df.loc[:, ['Nome do Post', 'Comentários']]"
   ]
  },
  {
   "cell_type": "code",
   "execution_count": 28,
   "id": "510a8136",
   "metadata": {},
   "outputs": [
    {
     "data": {
      "text/plain": [
       "Comentários    3.410714\n",
       "dtype: float64"
      ]
     },
     "execution_count": 28,
     "metadata": {},
     "output_type": "execute_result"
    }
   ],
   "source": [
    "df_coment.loc[:, ['Comentários']].mean()"
   ]
  },
  {
   "cell_type": "code",
   "execution_count": 29,
   "id": "c29487bd",
   "metadata": {},
   "outputs": [
    {
     "data": {
      "text/html": [
       "<div>\n",
       "<style scoped>\n",
       "    .dataframe tbody tr th:only-of-type {\n",
       "        vertical-align: middle;\n",
       "    }\n",
       "\n",
       "    .dataframe tbody tr th {\n",
       "        vertical-align: top;\n",
       "    }\n",
       "\n",
       "    .dataframe thead th {\n",
       "        text-align: right;\n",
       "    }\n",
       "</style>\n",
       "<table border=\"1\" class=\"dataframe\">\n",
       "  <thead>\n",
       "    <tr style=\"text-align: right;\">\n",
       "      <th></th>\n",
       "      <th>Nome do Post</th>\n",
       "      <th>Comentários</th>\n",
       "    </tr>\n",
       "  </thead>\n",
       "  <tbody>\n",
       "    <tr>\n",
       "      <th>217</th>\n",
       "      <td>SorteioValePresente_Imagem_Feed_Instagram_291021</td>\n",
       "      <td>369</td>\n",
       "    </tr>\n",
       "  </tbody>\n",
       "</table>\n",
       "</div>"
      ],
      "text/plain": [
       "                                         Nome do Post  Comentários\n",
       "217  SorteioValePresente_Imagem_Feed_Instagram_291021          369"
      ]
     },
     "execution_count": 29,
     "metadata": {},
     "output_type": "execute_result"
    }
   ],
   "source": [
    "df_coment[df_coment.Comentários == df_coment.Comentários.max()]"
   ]
  },
  {
   "cell_type": "markdown",
   "id": "d1f5715a",
   "metadata": {},
   "source": [
    "#### We can see that the post above is far beyond the mean of the comments, that's because it's a prize draw post that has as requirement for participate that people mark a friend on comments, so I will repeat the process without this post just to see the second most commented post (that don't has this requirement)"
   ]
  },
  {
   "cell_type": "code",
   "execution_count": 30,
   "id": "faf8e0cb",
   "metadata": {},
   "outputs": [
    {
     "data": {
      "text/html": [
       "<div>\n",
       "<style scoped>\n",
       "    .dataframe tbody tr th:only-of-type {\n",
       "        vertical-align: middle;\n",
       "    }\n",
       "\n",
       "    .dataframe tbody tr th {\n",
       "        vertical-align: top;\n",
       "    }\n",
       "\n",
       "    .dataframe thead th {\n",
       "        text-align: right;\n",
       "    }\n",
       "</style>\n",
       "<table border=\"1\" class=\"dataframe\">\n",
       "  <thead>\n",
       "    <tr style=\"text-align: right;\">\n",
       "      <th></th>\n",
       "      <th>Nome do Post</th>\n",
       "      <th>Comentários</th>\n",
       "    </tr>\n",
       "  </thead>\n",
       "  <tbody>\n",
       "    <tr>\n",
       "      <th>150</th>\n",
       "      <td>DiaMusicistas_Imagem_Reels_Instagram_221121</td>\n",
       "      <td>79</td>\n",
       "    </tr>\n",
       "  </tbody>\n",
       "</table>\n",
       "</div>"
      ],
      "text/plain": [
       "                                    Nome do Post  Comentários\n",
       "150  DiaMusicistas_Imagem_Reels_Instagram_221121           79"
      ]
     },
     "execution_count": 30,
     "metadata": {},
     "output_type": "execute_result"
    }
   ],
   "source": [
    "df_coment_second = df_coment.drop([217])\n",
    "df_coment_second[df_coment_second.Comentários == df_coment_second.Comentários.max()]"
   ]
  },
  {
   "cell_type": "markdown",
   "id": "49db37d7",
   "metadata": {},
   "source": [
    "# What is the most shared post?"
   ]
  },
  {
   "cell_type": "code",
   "execution_count": 31,
   "id": "32b151ee",
   "metadata": {},
   "outputs": [
    {
     "data": {
      "text/html": [
       "<div>\n",
       "<style scoped>\n",
       "    .dataframe tbody tr th:only-of-type {\n",
       "        vertical-align: middle;\n",
       "    }\n",
       "\n",
       "    .dataframe tbody tr th {\n",
       "        vertical-align: top;\n",
       "    }\n",
       "\n",
       "    .dataframe thead th {\n",
       "        text-align: right;\n",
       "    }\n",
       "</style>\n",
       "<table border=\"1\" class=\"dataframe\">\n",
       "  <thead>\n",
       "    <tr style=\"text-align: right;\">\n",
       "      <th></th>\n",
       "      <th>Nome do Post</th>\n",
       "      <th>Compartilhamentos</th>\n",
       "    </tr>\n",
       "  </thead>\n",
       "  <tbody>\n",
       "    <tr>\n",
       "      <th>0</th>\n",
       "      <td>Amostragem_Imagem_Feed_LinkedIn_150721</td>\n",
       "      <td>0.0</td>\n",
       "    </tr>\n",
       "    <tr>\n",
       "      <th>1</th>\n",
       "      <td>AulõesFuvest_Imagem_Stories_Instagram_201221</td>\n",
       "      <td>1.0</td>\n",
       "    </tr>\n",
       "    <tr>\n",
       "      <th>2</th>\n",
       "      <td>BingoDoEstudante_Vídeo_Stories_Instagram_110821</td>\n",
       "      <td>0.0</td>\n",
       "    </tr>\n",
       "    <tr>\n",
       "      <th>3</th>\n",
       "      <td>BoaProvaFuvest_Imagem_Stories_Instagram_111221</td>\n",
       "      <td>0.0</td>\n",
       "    </tr>\n",
       "    <tr>\n",
       "      <th>4</th>\n",
       "      <td>CuriosidadesArcane(1)_Imagem_Stories_Instagram...</td>\n",
       "      <td>1.0</td>\n",
       "    </tr>\n",
       "    <tr>\n",
       "      <th>...</th>\n",
       "      <td>...</td>\n",
       "      <td>...</td>\n",
       "    </tr>\n",
       "    <tr>\n",
       "      <th>224</th>\n",
       "      <td>Vale-PresenteResultado(4)_Vídeo_Stories_Instag...</td>\n",
       "      <td>0.0</td>\n",
       "    </tr>\n",
       "    <tr>\n",
       "      <th>225</th>\n",
       "      <td>Vale-PresenteResultado(5)_Vídeo_Stories_Instag...</td>\n",
       "      <td>0.0</td>\n",
       "    </tr>\n",
       "    <tr>\n",
       "      <th>226</th>\n",
       "      <td>Vale-PresenteResultado(6)_Imagem_Stories_Insta...</td>\n",
       "      <td>1.0</td>\n",
       "    </tr>\n",
       "    <tr>\n",
       "      <th>227</th>\n",
       "      <td>VoltasAulasUSP_Vídeo_Stories_Instagram_160821</td>\n",
       "      <td>0.0</td>\n",
       "    </tr>\n",
       "    <tr>\n",
       "      <th>228</th>\n",
       "      <td>XadrezNoIME(1)_Imagem_Feed_LinkedIn_300721</td>\n",
       "      <td>0.0</td>\n",
       "    </tr>\n",
       "  </tbody>\n",
       "</table>\n",
       "<p>219 rows × 2 columns</p>\n",
       "</div>"
      ],
      "text/plain": [
       "                                          Nome do Post  Compartilhamentos\n",
       "0               Amostragem_Imagem_Feed_LinkedIn_150721                0.0\n",
       "1         AulõesFuvest_Imagem_Stories_Instagram_201221                1.0\n",
       "2      BingoDoEstudante_Vídeo_Stories_Instagram_110821                0.0\n",
       "3       BoaProvaFuvest_Imagem_Stories_Instagram_111221                0.0\n",
       "4    CuriosidadesArcane(1)_Imagem_Stories_Instagram...                1.0\n",
       "..                                                 ...                ...\n",
       "224  Vale-PresenteResultado(4)_Vídeo_Stories_Instag...                0.0\n",
       "225  Vale-PresenteResultado(5)_Vídeo_Stories_Instag...                0.0\n",
       "226  Vale-PresenteResultado(6)_Imagem_Stories_Insta...                1.0\n",
       "227      VoltasAulasUSP_Vídeo_Stories_Instagram_160821                0.0\n",
       "228         XadrezNoIME(1)_Imagem_Feed_LinkedIn_300721                0.0\n",
       "\n",
       "[219 rows x 2 columns]"
      ]
     },
     "execution_count": 31,
     "metadata": {},
     "output_type": "execute_result"
    }
   ],
   "source": [
    "df_share = df.loc[:, ['Nome do Post', 'Compartilhamentos']].dropna()\n",
    "df_share"
   ]
  },
  {
   "cell_type": "code",
   "execution_count": 32,
   "id": "b50ce473",
   "metadata": {},
   "outputs": [
    {
     "data": {
      "text/plain": [
       "Compartilhamentos    2.182648\n",
       "dtype: float64"
      ]
     },
     "execution_count": 32,
     "metadata": {},
     "output_type": "execute_result"
    }
   ],
   "source": [
    "df_share.loc[:, ['Compartilhamentos']].mean()"
   ]
  },
  {
   "cell_type": "code",
   "execution_count": 33,
   "id": "4367bb4c",
   "metadata": {},
   "outputs": [
    {
     "data": {
      "text/html": [
       "<div>\n",
       "<style scoped>\n",
       "    .dataframe tbody tr th:only-of-type {\n",
       "        vertical-align: middle;\n",
       "    }\n",
       "\n",
       "    .dataframe tbody tr th {\n",
       "        vertical-align: top;\n",
       "    }\n",
       "\n",
       "    .dataframe thead th {\n",
       "        text-align: right;\n",
       "    }\n",
       "</style>\n",
       "<table border=\"1\" class=\"dataframe\">\n",
       "  <thead>\n",
       "    <tr style=\"text-align: right;\">\n",
       "      <th></th>\n",
       "      <th>Nome do Post</th>\n",
       "      <th>Compartilhamentos</th>\n",
       "    </tr>\n",
       "  </thead>\n",
       "  <tbody>\n",
       "    <tr>\n",
       "      <th>214</th>\n",
       "      <td>SemanaPreFuvest_Imagem_Feed_Instagram_060121</td>\n",
       "      <td>200.0</td>\n",
       "    </tr>\n",
       "  </tbody>\n",
       "</table>\n",
       "</div>"
      ],
      "text/plain": [
       "                                     Nome do Post  Compartilhamentos\n",
       "214  SemanaPreFuvest_Imagem_Feed_Instagram_060121              200.0"
      ]
     },
     "execution_count": 33,
     "metadata": {},
     "output_type": "execute_result"
    }
   ],
   "source": [
    "df_share[df_share.Compartilhamentos == df_share.Compartilhamentos.max()]"
   ]
  },
  {
   "cell_type": "markdown",
   "id": "3633a941",
   "metadata": {},
   "source": [
    "#### The most shared post is about a national exam that occurs in Brazil called ''Fuvest''"
   ]
  },
  {
   "cell_type": "markdown",
   "id": "05d47ee0",
   "metadata": {},
   "source": [
    "# What is the most saved post?"
   ]
  },
  {
   "cell_type": "code",
   "execution_count": 34,
   "id": "a87d5f79",
   "metadata": {},
   "outputs": [
    {
     "data": {
      "text/plain": [
       "Saves    1.271739\n",
       "dtype: float64"
      ]
     },
     "execution_count": 34,
     "metadata": {},
     "output_type": "execute_result"
    }
   ],
   "source": [
    "df_save = df.loc[: , ['Nome do Post', 'Saves']]\n",
    "df_save = df_save.dropna()\n",
    "df_save.loc[:, ['Saves']].mean()"
   ]
  },
  {
   "cell_type": "code",
   "execution_count": 35,
   "id": "64e8e726",
   "metadata": {},
   "outputs": [
    {
     "data": {
      "text/html": [
       "<div>\n",
       "<style scoped>\n",
       "    .dataframe tbody tr th:only-of-type {\n",
       "        vertical-align: middle;\n",
       "    }\n",
       "\n",
       "    .dataframe tbody tr th {\n",
       "        vertical-align: top;\n",
       "    }\n",
       "\n",
       "    .dataframe thead th {\n",
       "        text-align: right;\n",
       "    }\n",
       "</style>\n",
       "<table border=\"1\" class=\"dataframe\">\n",
       "  <thead>\n",
       "    <tr style=\"text-align: right;\">\n",
       "      <th></th>\n",
       "      <th>Nome do Post</th>\n",
       "      <th>Saves</th>\n",
       "    </tr>\n",
       "  </thead>\n",
       "  <tbody>\n",
       "    <tr>\n",
       "      <th>214</th>\n",
       "      <td>SemanaPreFuvest_Imagem_Feed_Instagram_060121</td>\n",
       "      <td>81.0</td>\n",
       "    </tr>\n",
       "  </tbody>\n",
       "</table>\n",
       "</div>"
      ],
      "text/plain": [
       "                                     Nome do Post  Saves\n",
       "214  SemanaPreFuvest_Imagem_Feed_Instagram_060121   81.0"
      ]
     },
     "execution_count": 35,
     "metadata": {},
     "output_type": "execute_result"
    }
   ],
   "source": [
    "df_save[df_save.Saves == df_save.Saves.max()]"
   ]
  },
  {
   "cell_type": "markdown",
   "id": "00d5e3f1",
   "metadata": {},
   "source": [
    "#### Again the most saved post is about ''Fuvest''"
   ]
  },
  {
   "cell_type": "markdown",
   "id": "fb7fe662",
   "metadata": {},
   "source": [
    "# What is the total of saves on Instagram?"
   ]
  },
  {
   "cell_type": "code",
   "execution_count": 36,
   "id": "10d581cc",
   "metadata": {},
   "outputs": [
    {
     "data": {
      "text/plain": [
       "Plataforma  Saves\n",
       "Instagram   0.0      121\n",
       "            1.0       12\n",
       "            2.0        6\n",
       "            3.0        4\n",
       "            8.0        3\n",
       "            7.0        2\n",
       "            13.0       2\n",
       "            10.0       1\n",
       "            12.0       1\n",
       "            15.0       1\n",
       "            16.0       1\n",
       "            81.0       1\n",
       "LinkedIn    0.0       20\n",
       "Linkedin    0.0        3\n",
       "ig          0.0        6\n",
       "dtype: int64"
      ]
     },
     "execution_count": 36,
     "metadata": {},
     "output_type": "execute_result"
    }
   ],
   "source": [
    "df_6 = df.loc[:, ['Plataforma', 'Saves']]\n",
    "df_6 = df_6.dropna()\n",
    "df_6_grp = df_6.groupby('Plataforma')\n",
    "df_6_grp.value_counts()"
   ]
  },
  {
   "cell_type": "code",
   "execution_count": 37,
   "id": "551fe885",
   "metadata": {},
   "outputs": [
    {
     "data": {
      "text/plain": [
       "Saves    234.0\n",
       "dtype: float64"
      ]
     },
     "execution_count": 37,
     "metadata": {},
     "output_type": "execute_result"
    }
   ],
   "source": [
    "ig_saves = df_6_grp.get_group('Instagram').loc[:, ['Saves']].sum();\n",
    "ig_saves"
   ]
  },
  {
   "cell_type": "markdown",
   "id": "53452ca2",
   "metadata": {},
   "source": [
    "#### We can ignore the group ''ig'' because it has no saves."
   ]
  },
  {
   "cell_type": "markdown",
   "id": "66f60871",
   "metadata": {},
   "source": [
    "# Wich posts reached more users?"
   ]
  },
  {
   "cell_type": "code",
   "execution_count": 38,
   "id": "51dba19b",
   "metadata": {},
   "outputs": [
    {
     "data": {
      "text/html": [
       "<div>\n",
       "<style scoped>\n",
       "    .dataframe tbody tr th:only-of-type {\n",
       "        vertical-align: middle;\n",
       "    }\n",
       "\n",
       "    .dataframe tbody tr th {\n",
       "        vertical-align: top;\n",
       "    }\n",
       "\n",
       "    .dataframe thead th {\n",
       "        text-align: right;\n",
       "    }\n",
       "</style>\n",
       "<table border=\"1\" class=\"dataframe\">\n",
       "  <thead>\n",
       "    <tr style=\"text-align: right;\">\n",
       "      <th></th>\n",
       "      <th>Nome do Post</th>\n",
       "      <th>Alcance</th>\n",
       "    </tr>\n",
       "  </thead>\n",
       "  <tbody>\n",
       "    <tr>\n",
       "      <th>147</th>\n",
       "      <td>DiaMundiaDoadorDeSangue_Vídeo_Stories_Instagra...</td>\n",
       "      <td>6600.0</td>\n",
       "    </tr>\n",
       "    <tr>\n",
       "      <th>214</th>\n",
       "      <td>SemanaPreFuvest_Imagem_Feed_Instagram_060121</td>\n",
       "      <td>6058.0</td>\n",
       "    </tr>\n",
       "    <tr>\n",
       "      <th>200</th>\n",
       "      <td>Retrospectiva _Vídeo_Reels_Instagram_311221</td>\n",
       "      <td>1173.0</td>\n",
       "    </tr>\n",
       "    <tr>\n",
       "      <th>159</th>\n",
       "      <td>FotoConfraternização_Imagem_Feed_Instagram_211221</td>\n",
       "      <td>838.0</td>\n",
       "    </tr>\n",
       "    <tr>\n",
       "      <th>150</th>\n",
       "      <td>DiaMusicistas_Imagem_Reels_Instagram_221121</td>\n",
       "      <td>838.0</td>\n",
       "    </tr>\n",
       "    <tr>\n",
       "      <th>197</th>\n",
       "      <td>ProcessoSeletivo_Imagem_Feed_Instagram_060921</td>\n",
       "      <td>697.0</td>\n",
       "    </tr>\n",
       "    <tr>\n",
       "      <th>183</th>\n",
       "      <td>NovaGestão_Imagem_Feed_Instagram_141221</td>\n",
       "      <td>638.0</td>\n",
       "    </tr>\n",
       "    <tr>\n",
       "      <th>171</th>\n",
       "      <td>IMEJrFederada_Imagem_Feed_Instagram_090921</td>\n",
       "      <td>599.0</td>\n",
       "    </tr>\n",
       "    <tr>\n",
       "      <th>160</th>\n",
       "      <td>FraseEstatistica_Imagem_Feed_Instagram_281221</td>\n",
       "      <td>556.0</td>\n",
       "    </tr>\n",
       "    <tr>\n",
       "      <th>217</th>\n",
       "      <td>SorteioValePresente_Imagem_Feed_Instagram_291021</td>\n",
       "      <td>530.0</td>\n",
       "    </tr>\n",
       "  </tbody>\n",
       "</table>\n",
       "</div>"
      ],
      "text/plain": [
       "                                          Nome do Post  Alcance\n",
       "147  DiaMundiaDoadorDeSangue_Vídeo_Stories_Instagra...   6600.0\n",
       "214       SemanaPreFuvest_Imagem_Feed_Instagram_060121   6058.0\n",
       "200        Retrospectiva _Vídeo_Reels_Instagram_311221   1173.0\n",
       "159  FotoConfraternização_Imagem_Feed_Instagram_211221    838.0\n",
       "150        DiaMusicistas_Imagem_Reels_Instagram_221121    838.0\n",
       "197      ProcessoSeletivo_Imagem_Feed_Instagram_060921    697.0\n",
       "183            NovaGestão_Imagem_Feed_Instagram_141221    638.0\n",
       "171         IMEJrFederada_Imagem_Feed_Instagram_090921    599.0\n",
       "160      FraseEstatistica_Imagem_Feed_Instagram_281221    556.0\n",
       "217   SorteioValePresente_Imagem_Feed_Instagram_291021    530.0"
      ]
     },
     "execution_count": 38,
     "metadata": {},
     "output_type": "execute_result"
    }
   ],
   "source": [
    "df_7 = df.loc[:, ['Nome do Post', 'Alcance']]\n",
    "df_7 = df_7.dropna()\n",
    "df_7_sorted = df_7.sort_values(by='Alcance', ascending=False)\n",
    "df_7_sorted.head(10)"
   ]
  },
  {
   "cell_type": "markdown",
   "id": "3faa5f93",
   "metadata": {},
   "source": [
    "#### There are the 10 posts that reached more users."
   ]
  },
  {
   "cell_type": "markdown",
   "id": "e83500b1",
   "metadata": {},
   "source": [
    "# How many days had posts?"
   ]
  },
  {
   "cell_type": "code",
   "execution_count": 39,
   "id": "052c5f5f",
   "metadata": {},
   "outputs": [
    {
     "data": {
      "text/plain": [
       "0     2021-07-15\n",
       "1     2021-12-20\n",
       "3     2021-12-11\n",
       "9     2021-12-03\n",
       "13    2022-01-04\n",
       "         ...    \n",
       "219   2021-11-08\n",
       "226   2021-11-11\n",
       "227   2021-08-16\n",
       "228   2021-07-30\n",
       "229   2021-08-05\n",
       "Name: Data, Length: 88, dtype: datetime64[ns]"
      ]
     },
     "execution_count": 39,
     "metadata": {},
     "output_type": "execute_result"
    }
   ],
   "source": [
    "df_8 = df['Data']\n",
    "df_8 = df_8.dropna()\n",
    "df_8_days = df_8.drop_duplicates(keep='last')\n",
    "df_8_days"
   ]
  },
  {
   "cell_type": "markdown",
   "id": "41e4bdcc",
   "metadata": {},
   "source": [
    "#### After removing the duplicates (because there are days with more than 1 post) it's just see the length of the series: 88 days at total."
   ]
  },
  {
   "cell_type": "markdown",
   "id": "f8dfb666",
   "metadata": {},
   "source": [
    "# How many posts?"
   ]
  },
  {
   "cell_type": "code",
   "execution_count": 40,
   "id": "36dd5e47",
   "metadata": {},
   "outputs": [
    {
     "data": {
      "text/plain": [
       "Nome do Post    224\n",
       "dtype: int64"
      ]
     },
     "execution_count": 40,
     "metadata": {},
     "output_type": "execute_result"
    }
   ],
   "source": [
    "df.loc[:, ['Nome do Post']].count()"
   ]
  },
  {
   "cell_type": "markdown",
   "id": "4f7c558f",
   "metadata": {},
   "source": [
    "#### Just counted the number of datas in the ''name of the post'' series."
   ]
  },
  {
   "cell_type": "markdown",
   "id": "1522b587",
   "metadata": {},
   "source": [
    "# How many users reached on Instagram?"
   ]
  },
  {
   "cell_type": "code",
   "execution_count": 41,
   "id": "613bb9d4",
   "metadata": {},
   "outputs": [
    {
     "data": {
      "text/plain": [
       "Plataforma  Alcance\n",
       "Instagram   95.0       6\n",
       "            87.0       6\n",
       "            106.0      5\n",
       "            101.0      5\n",
       "            97.0       5\n",
       "                      ..\n",
       "ig          159.0      1\n",
       "            127.0      1\n",
       "            77.0       1\n",
       "            61.0       1\n",
       "            310.0      1\n",
       "Length: 134, dtype: int64"
      ]
     },
     "execution_count": 41,
     "metadata": {},
     "output_type": "execute_result"
    }
   ],
   "source": [
    "df_9 = df.loc[:, ['Plataforma', 'Alcance']]\n",
    "df_9 = df_9.dropna()\n",
    "df_9_grp = df_9.groupby('Plataforma')\n",
    "df_9_grp.value_counts()"
   ]
  },
  {
   "cell_type": "code",
   "execution_count": 42,
   "id": "abf76671",
   "metadata": {},
   "outputs": [
    {
     "data": {
      "text/plain": [
       "Alcance    44518.0\n",
       "dtype: float64"
      ]
     },
     "execution_count": 42,
     "metadata": {},
     "output_type": "execute_result"
    }
   ],
   "source": [
    "df_9.loc[:, ['Alcance']].sum()"
   ]
  },
  {
   "cell_type": "markdown",
   "id": "d37f6dd6",
   "metadata": {},
   "source": [
    "#### As we can see LinkedIn doesn't has the attribute ''Reach'' so we can just count the total of Instagram."
   ]
  },
  {
   "cell_type": "markdown",
   "id": "512b5a7c",
   "metadata": {},
   "source": [
    "# Which is the format of post with most sharings?"
   ]
  },
  {
   "cell_type": "code",
   "execution_count": 43,
   "id": "90dca33d",
   "metadata": {},
   "outputs": [
    {
     "data": {
      "text/plain": [
       "Formato  Compartilhamentos\n",
       "Imagem   0.0                  123\n",
       "         1.0                   14\n",
       "         2.0                    7\n",
       "         4.0                    4\n",
       "         11.0                   2\n",
       "         13.0                   1\n",
       "         18.0                   1\n",
       "         12.0                   1\n",
       "         21.0                   1\n",
       "         100.0                  1\n",
       "         200.0                  1\n",
       "         8.0                    1\n",
       "         3.0                    1\n",
       "         19.0                   1\n",
       "Photo    2.0                    1\n",
       "Video    0.0                    5\n",
       "Vídeo    0.0                   46\n",
       "         14.0                   1\n",
       "imagem   0.0                    4\n",
       "         2.0                    1\n",
       "vídeo    0.0                    2\n",
       "dtype: int64"
      ]
     },
     "execution_count": 43,
     "metadata": {},
     "output_type": "execute_result"
    }
   ],
   "source": [
    "df_10 = df.loc[:, ['Formato', 'Compartilhamentos']]\n",
    "df_10 = df_10.dropna()\n",
    "df_10_grp = df_10.groupby('Formato')\n",
    "df_10_grp.value_counts()"
   ]
  },
  {
   "cell_type": "code",
   "execution_count": 46,
   "id": "01fdd93b",
   "metadata": {},
   "outputs": [
    {
     "data": {
      "text/plain": [
       "Formato              ImagemImagemImagemImagemImagemImagemImagemImag...\n",
       "Compartilhamentos                                                464.0\n",
       "dtype: object"
      ]
     },
     "execution_count": 46,
     "metadata": {},
     "output_type": "execute_result"
    }
   ],
   "source": [
    "df_10_grp.get_group('Imagem').sum() + df_10_grp.get_group('imagem').sum() + df_10_grp.get_group('Photo').sum()\n"
   ]
  },
  {
   "cell_type": "code",
   "execution_count": 47,
   "id": "411a4b20",
   "metadata": {},
   "outputs": [
    {
     "data": {
      "text/plain": [
       "Formato              VideoVideoVideoVideoVideoVídeoVídeoVídeoVídeoV...\n",
       "Compartilhamentos                                                 14.0\n",
       "dtype: object"
      ]
     },
     "execution_count": 47,
     "metadata": {},
     "output_type": "execute_result"
    }
   ],
   "source": [
    "df_10_grp.get_group('Video').sum() + df_10_grp.get_group('Vídeo').sum() + df_10_grp.get_group('vídeo').sum()"
   ]
  },
  {
   "cell_type": "markdown",
   "id": "e64e1cbe",
   "metadata": {},
   "source": [
    "#### We can see that the images has more sharing than videos, but I will consider the proportion of sharings/(total of posts), because it can be so many more images than videos posted."
   ]
  },
  {
   "cell_type": "code",
   "execution_count": 48,
   "id": "e32af77a",
   "metadata": {},
   "outputs": [
    {
     "data": {
      "text/plain": [
       "Formato\n",
       "Imagem    162\n",
       "Photo       1\n",
       "Video       5\n",
       "Vídeo      48\n",
       "imagem      5\n",
       "vídeo       3\n",
       "dtype: int64"
      ]
     },
     "execution_count": 48,
     "metadata": {},
     "output_type": "execute_result"
    }
   ],
   "source": [
    "df_10_second = df.loc[:, ['Formato']]\n",
    "df_10_second_grp = df_10_second.groupby('Formato')\n",
    "df_10_second_grp.value_counts()"
   ]
  },
  {
   "cell_type": "markdown",
   "id": "9cdfad3a",
   "metadata": {},
   "source": [
    "#### There are 168 photos (imagem + imagem + photo) and 56 videos, so:"
   ]
  },
  {
   "cell_type": "code",
   "execution_count": 49,
   "id": "7ce59a0f",
   "metadata": {},
   "outputs": [],
   "source": [
    "Prop_photos = 471/168"
   ]
  },
  {
   "cell_type": "code",
   "execution_count": 50,
   "id": "79124a62",
   "metadata": {},
   "outputs": [],
   "source": [
    "Prop_videos = 56/14"
   ]
  },
  {
   "cell_type": "code",
   "execution_count": 52,
   "id": "cd5df2cb",
   "metadata": {},
   "outputs": [
    {
     "data": {
      "text/plain": [
       "2.8035714285714284"
      ]
     },
     "execution_count": 52,
     "metadata": {},
     "output_type": "execute_result"
    }
   ],
   "source": [
    "Prop_photos"
   ]
  },
  {
   "cell_type": "code",
   "execution_count": 53,
   "id": "7d92cc96",
   "metadata": {},
   "outputs": [
    {
     "data": {
      "text/plain": [
       "4.0"
      ]
     },
     "execution_count": 53,
     "metadata": {},
     "output_type": "execute_result"
    }
   ],
   "source": [
    "Prop_videos"
   ]
  },
  {
   "cell_type": "markdown",
   "id": "3bc9974d",
   "metadata": {},
   "source": [
    "#### So we can see that proporcionally videos has more sharing than the photos"
   ]
  },
  {
   "cell_type": "markdown",
   "id": "087f78f9",
   "metadata": {},
   "source": [
    "# The post about ''Federação da IME Jr'' had better performance on Instagram or LinkedIn?"
   ]
  },
  {
   "cell_type": "code",
   "execution_count": 54,
   "id": "4c448bf7",
   "metadata": {},
   "outputs": [
    {
     "data": {
      "text/html": [
       "<div>\n",
       "<style scoped>\n",
       "    .dataframe tbody tr th:only-of-type {\n",
       "        vertical-align: middle;\n",
       "    }\n",
       "\n",
       "    .dataframe tbody tr th {\n",
       "        vertical-align: top;\n",
       "    }\n",
       "\n",
       "    .dataframe thead th {\n",
       "        text-align: right;\n",
       "    }\n",
       "</style>\n",
       "<table border=\"1\" class=\"dataframe\">\n",
       "  <thead>\n",
       "    <tr style=\"text-align: right;\">\n",
       "      <th></th>\n",
       "      <th>Criativo</th>\n",
       "      <th>Plataforma</th>\n",
       "      <th>Impressões</th>\n",
       "      <th>Saves</th>\n",
       "      <th>Cliques em Link</th>\n",
       "      <th>3-Sec-View</th>\n",
       "      <th>Comentários</th>\n",
       "      <th>Reações</th>\n",
       "      <th>Compartilhamentos</th>\n",
       "    </tr>\n",
       "  </thead>\n",
       "  <tbody>\n",
       "    <tr>\n",
       "      <th>171</th>\n",
       "      <td>IMEJrFederada</td>\n",
       "      <td>Instagram</td>\n",
       "      <td>669.0</td>\n",
       "      <td>2.0</td>\n",
       "      <td>0.0</td>\n",
       "      <td>0.0</td>\n",
       "      <td>8</td>\n",
       "      <td>53.0</td>\n",
       "      <td>0.0</td>\n",
       "    </tr>\n",
       "    <tr>\n",
       "      <th>172</th>\n",
       "      <td>IMEJrFederada</td>\n",
       "      <td>LinkedIn</td>\n",
       "      <td>340.0</td>\n",
       "      <td>0.0</td>\n",
       "      <td>14.0</td>\n",
       "      <td>0.0</td>\n",
       "      <td>2</td>\n",
       "      <td>17.0</td>\n",
       "      <td>1.0</td>\n",
       "    </tr>\n",
       "  </tbody>\n",
       "</table>\n",
       "</div>"
      ],
      "text/plain": [
       "          Criativo Plataforma  Impressões  Saves  Cliques em Link  3-Sec-View  \\\n",
       "171  IMEJrFederada  Instagram       669.0    2.0              0.0         0.0   \n",
       "172  IMEJrFederada   LinkedIn       340.0    0.0             14.0         0.0   \n",
       "\n",
       "     Comentários  Reações  Compartilhamentos  \n",
       "171            8     53.0                0.0  \n",
       "172            2     17.0                1.0  "
      ]
     },
     "execution_count": 54,
     "metadata": {},
     "output_type": "execute_result"
    }
   ],
   "source": [
    "df_11 = df.loc[:, ['Criativo', 'Plataforma', 'Impressões', 'Saves', 'Cliques em Link', '3-Sec-View', 'Comentários', 'Reações', 'Compartilhamentos' ]]\n",
    "df_11_grp = df_11.groupby('Criativo')\n",
    "df_11_fed = df_11_grp.get_group('IMEJrFederada')\n",
    "df_11_fed"
   ]
  },
  {
   "cell_type": "code",
   "execution_count": 55,
   "id": "98b50cd2",
   "metadata": {},
   "outputs": [
    {
     "data": {
      "text/plain": [
       "171    732.0\n",
       "172    374.0\n",
       "dtype: float64"
      ]
     },
     "execution_count": 55,
     "metadata": {},
     "output_type": "execute_result"
    }
   ],
   "source": [
    "df_11_fed.loc[:, 'Impressões':'Compartilhamentos'].sum(axis=1)"
   ]
  },
  {
   "cell_type": "markdown",
   "id": "2978ef0a",
   "metadata": {},
   "source": [
    "#### Here I just consider attributes that are mutual for Instagram and Linkedin, but IG keeps with the best performance."
   ]
  },
  {
   "cell_type": "markdown",
   "id": "64cb2cbd",
   "metadata": {},
   "source": [
    "# What is the mean of likes on Instagram? And on Linkedin?"
   ]
  },
  {
   "cell_type": "code",
   "execution_count": 56,
   "id": "539689a6",
   "metadata": {},
   "outputs": [
    {
     "data": {
      "text/plain": [
       "Plataforma  Reações\n",
       "Instagram   0.0        111\n",
       "            37.0         4\n",
       "            34.0         3\n",
       "            2.0          2\n",
       "            43.0         2\n",
       "            42.0         2\n",
       "            26.0         2\n",
       "            32.0         2\n",
       "            99999.0      1\n",
       "            460.0        1\n",
       "            95.0         1\n",
       "            119.0        1\n",
       "            88.0         1\n",
       "            94.0         1\n",
       "            45.0         1\n",
       "            10.0         1\n",
       "            21.0         1\n",
       "            23.0         1\n",
       "            25.0         1\n",
       "            28.0         1\n",
       "            29.0         1\n",
       "            35.0         1\n",
       "            38.0         1\n",
       "            40.0         1\n",
       "            48.0         1\n",
       "            91.0         1\n",
       "            53.0         1\n",
       "            69.0         1\n",
       "            71.0         1\n",
       "            73.0         1\n",
       "            74.0         1\n",
       "            76.0         1\n",
       "            79.0         1\n",
       "            1.0          1\n",
       "            90.0         1\n",
       "LinkedIn    14.0         4\n",
       "            10.0         4\n",
       "            8.0          2\n",
       "            11.0         1\n",
       "            12.0         1\n",
       "            9.0          1\n",
       "            5.0          1\n",
       "            13.0         1\n",
       "            17.0         1\n",
       "            15.0         1\n",
       "            22.0         1\n",
       "            28.0         1\n",
       "            1899.0       1\n",
       "Linkedin    8.0          1\n",
       "            14.0         1\n",
       "            18.0         1\n",
       "ig          0.0          4\n",
       "            35.0         1\n",
       "            53.0         1\n",
       "dtype: int64"
      ]
     },
     "execution_count": 56,
     "metadata": {},
     "output_type": "execute_result"
    }
   ],
   "source": [
    "df_12 = df.loc[:, ['Plataforma', 'Reações']].dropna()\n",
    "df_12_grp = df_12.groupby('Plataforma')\n",
    "df_12_grp.value_counts()"
   ]
  },
  {
   "cell_type": "code",
   "execution_count": 58,
   "id": "9b1a3f5f",
   "metadata": {},
   "outputs": [
    {
     "data": {
      "text/plain": [
       "Plataforma    InstagramInstagramInstagramInstagramInstagramI...\n",
       "Reações                                                102502.0\n",
       "dtype: object"
      ]
     },
     "execution_count": 58,
     "metadata": {},
     "output_type": "execute_result"
    }
   ],
   "source": [
    "df_12_ig = df_12_grp.get_group('Instagram').sum() + df_12_grp.get_group('ig').sum()\n",
    "df_12_ig"
   ]
  },
  {
   "cell_type": "code",
   "execution_count": 60,
   "id": "d1d5c5df",
   "metadata": {},
   "outputs": [
    {
     "data": {
      "text/plain": [
       "Plataforma    161\n",
       "Reações       161\n",
       "dtype: int64"
      ]
     },
     "execution_count": 60,
     "metadata": {},
     "output_type": "execute_result"
    }
   ],
   "source": [
    "df_12_ig_total = df_12_grp.get_group('Instagram').count() + df_12_grp.get_group('ig').count() \n",
    "df_12_ig_total"
   ]
  },
  {
   "cell_type": "markdown",
   "id": "f3a03a4f",
   "metadata": {},
   "source": [
    "#### Now I'm gonna to use that:\n",
    "$\\bar{x} = \\frac{1}{n} \\cdot \\sum\\limits_{i=1}^{n} x_i$"
   ]
  },
  {
   "cell_type": "code",
   "execution_count": 62,
   "id": "dd37ee55",
   "metadata": {},
   "outputs": [],
   "source": [
    "df_ig_mean = (102502.0 - 99999.0)/161-1"
   ]
  },
  {
   "cell_type": "code",
   "execution_count": 63,
   "id": "1d77dcd9",
   "metadata": {},
   "outputs": [
    {
     "data": {
      "text/plain": [
       "14.546583850931677"
      ]
     },
     "execution_count": 63,
     "metadata": {},
     "output_type": "execute_result"
    }
   ],
   "source": [
    "df_ig_mean"
   ]
  },
  {
   "cell_type": "markdown",
   "id": "04cacf4f",
   "metadata": {},
   "source": [
    "#### Note that I already excluded the bug/strange outlier that we discussed before."
   ]
  },
  {
   "cell_type": "code",
   "execution_count": 64,
   "id": "79a2c88d",
   "metadata": {},
   "outputs": [
    {
     "data": {
      "text/plain": [
       "Plataforma    LinkedinLinkedinLinkedinLinkedInLinkedInLinked...\n",
       "Reações                                                  2183.0\n",
       "dtype: object"
      ]
     },
     "execution_count": 64,
     "metadata": {},
     "output_type": "execute_result"
    }
   ],
   "source": [
    "df_12_lk = df_12_grp.get_group('Linkedin').sum() + df_12_grp.get_group('LinkedIn').sum()\n",
    "df_12_lk"
   ]
  },
  {
   "cell_type": "code",
   "execution_count": 65,
   "id": "00141718",
   "metadata": {},
   "outputs": [
    {
     "data": {
      "text/plain": [
       "Plataforma    23\n",
       "Reações       23\n",
       "dtype: int64"
      ]
     },
     "execution_count": 65,
     "metadata": {},
     "output_type": "execute_result"
    }
   ],
   "source": [
    "df_12_total = df_12_grp.get_group('Linkedin').count() + df_12_grp.get_group('LinkedIn').count()\n",
    "df_12_total"
   ]
  },
  {
   "cell_type": "code",
   "execution_count": 66,
   "id": "3e964fdf",
   "metadata": {},
   "outputs": [
    {
     "data": {
      "text/plain": [
       "94.91304347826087"
      ]
     },
     "execution_count": 66,
     "metadata": {},
     "output_type": "execute_result"
    }
   ],
   "source": [
    "df_lk_mean = 2183/23\n",
    "df_lk_mean"
   ]
  },
  {
   "cell_type": "markdown",
   "id": "1c32b052",
   "metadata": {},
   "source": [
    "# Which month has most reactions?"
   ]
  },
  {
   "cell_type": "code",
   "execution_count": 67,
   "id": "1ae7f3e7",
   "metadata": {},
   "outputs": [],
   "source": [
    "df_15 = df.loc[:, ['Data', 'Reações']]\n",
    "df_15 = df_15.dropna()\n",
    "df_15 = df_15.set_index('Data')\n",
    "df_15 = df_15['Reações'].resample('M').sum().dropna()"
   ]
  },
  {
   "cell_type": "code",
   "execution_count": null,
   "id": "5e877dbc",
   "metadata": {},
   "outputs": [],
   "source": [
    "df_15"
   ]
  },
  {
   "cell_type": "code",
   "execution_count": 70,
   "id": "42fc4073",
   "metadata": {},
   "outputs": [
    {
     "data": {
      "text/plain": [
       "index                       52\n",
       "Data       2021-12-31 00:00:00\n",
       "Reações               102605.0\n",
       "dtype: object"
      ]
     },
     "execution_count": 70,
     "metadata": {},
     "output_type": "execute_result"
    }
   ],
   "source": [
    "df_15 = df_15.reset_index()\n",
    "df_15.max()"
   ]
  },
  {
   "cell_type": "markdown",
   "id": "69dceffd",
   "metadata": {},
   "source": [
    "#### We have to consider that that's the month that contais the bug/outlier discussed before, so I will count it as 102605-99999 = 2.606 reaction. Although, it stills the month with most reactions."
   ]
  },
  {
   "cell_type": "markdown",
   "id": "98250c08",
   "metadata": {},
   "source": [
    "# How many and wich posts has more than 15 comments?"
   ]
  },
  {
   "cell_type": "code",
   "execution_count": 71,
   "id": "3275a5cb",
   "metadata": {},
   "outputs": [
    {
     "data": {
      "text/html": [
       "<div>\n",
       "<style scoped>\n",
       "    .dataframe tbody tr th:only-of-type {\n",
       "        vertical-align: middle;\n",
       "    }\n",
       "\n",
       "    .dataframe tbody tr th {\n",
       "        vertical-align: top;\n",
       "    }\n",
       "\n",
       "    .dataframe thead th {\n",
       "        text-align: right;\n",
       "    }\n",
       "</style>\n",
       "<table border=\"1\" class=\"dataframe\">\n",
       "  <thead>\n",
       "    <tr style=\"text-align: right;\">\n",
       "      <th></th>\n",
       "      <th>Nome do Post</th>\n",
       "      <th>Comentários</th>\n",
       "    </tr>\n",
       "  </thead>\n",
       "  <tbody>\n",
       "    <tr>\n",
       "      <th>104</th>\n",
       "      <td>DiaDaFamília_Imagem_Feed_Instagram_150521</td>\n",
       "      <td>20</td>\n",
       "    </tr>\n",
       "    <tr>\n",
       "      <th>135</th>\n",
       "      <td>DiaDoProfessor_Imagem_Feed_Instagram_151021</td>\n",
       "      <td>28</td>\n",
       "    </tr>\n",
       "    <tr>\n",
       "      <th>150</th>\n",
       "      <td>DiaMusicistas_Imagem_Reels_Instagram_221121</td>\n",
       "      <td>79</td>\n",
       "    </tr>\n",
       "    <tr>\n",
       "      <th>159</th>\n",
       "      <td>FotoConfraternização_Imagem_Feed_Instagram_211221</td>\n",
       "      <td>23</td>\n",
       "    </tr>\n",
       "    <tr>\n",
       "      <th>183</th>\n",
       "      <td>NovaGestão_Imagem_Feed_Instagram_141221</td>\n",
       "      <td>32</td>\n",
       "    </tr>\n",
       "    <tr>\n",
       "      <th>214</th>\n",
       "      <td>SemanaPreFuvest_Imagem_Feed_Instagram_060121</td>\n",
       "      <td>25</td>\n",
       "    </tr>\n",
       "    <tr>\n",
       "      <th>217</th>\n",
       "      <td>SorteioValePresente_Imagem_Feed_Instagram_291021</td>\n",
       "      <td>369</td>\n",
       "    </tr>\n",
       "  </tbody>\n",
       "</table>\n",
       "</div>"
      ],
      "text/plain": [
       "                                          Nome do Post  Comentários\n",
       "104          DiaDaFamília_Imagem_Feed_Instagram_150521           20\n",
       "135        DiaDoProfessor_Imagem_Feed_Instagram_151021           28\n",
       "150        DiaMusicistas_Imagem_Reels_Instagram_221121           79\n",
       "159  FotoConfraternização_Imagem_Feed_Instagram_211221           23\n",
       "183            NovaGestão_Imagem_Feed_Instagram_141221           32\n",
       "214       SemanaPreFuvest_Imagem_Feed_Instagram_060121           25\n",
       "217   SorteioValePresente_Imagem_Feed_Instagram_291021          369"
      ]
     },
     "execution_count": 71,
     "metadata": {},
     "output_type": "execute_result"
    }
   ],
   "source": [
    "df_16 = df.loc[:, ['Nome do Post', 'Comentários']].dropna()\n",
    "filt = df_16['Comentários'] > 15\n",
    "df_16[filt]"
   ]
  },
  {
   "cell_type": "code",
   "execution_count": 72,
   "id": "f91c69c4",
   "metadata": {},
   "outputs": [
    {
     "data": {
      "text/plain": [
       "7"
      ]
     },
     "execution_count": 72,
     "metadata": {},
     "output_type": "execute_result"
    }
   ],
   "source": [
    "df_16[filt]['Nome do Post'].count()"
   ]
  },
  {
   "cell_type": "markdown",
   "id": "f1bd1dd3",
   "metadata": {},
   "source": [
    "#### There are 7 posts with > 15 comments."
   ]
  },
  {
   "cell_type": "markdown",
   "id": "5c494b38",
   "metadata": {},
   "source": [
    "# How many posts on feed doesn't has comments? And how many at stories?"
   ]
  },
  {
   "cell_type": "code",
   "execution_count": 73,
   "id": "c46f12f5",
   "metadata": {},
   "outputs": [
    {
     "data": {
      "text/plain": [
       "Posicionamento  Comentários\n",
       "Fed             0                1\n",
       "Feed            0               23\n",
       "Storie          0                3\n",
       "Stories         0              109\n",
       "Story           0                8\n",
       "feed            0                1\n",
       "stories         0               17\n",
       "dtype: int64"
      ]
     },
     "execution_count": 73,
     "metadata": {},
     "output_type": "execute_result"
    }
   ],
   "source": [
    "df_17 = df.loc[:, ['Posicionamento', 'Comentários']].dropna()\n",
    "filt = df_17['Comentários'] == 0\n",
    "df_17 = df_17[filt].groupby('Posicionamento')\n",
    "df_17.value_counts()"
   ]
  },
  {
   "cell_type": "code",
   "execution_count": 74,
   "id": "80d6e544",
   "metadata": {},
   "outputs": [
    {
     "data": {
      "text/plain": [
       "Posicionamento    25\n",
       "Comentários       25\n",
       "dtype: int64"
      ]
     },
     "execution_count": 74,
     "metadata": {},
     "output_type": "execute_result"
    }
   ],
   "source": [
    "df_17_feed = df_17.get_group('Fed').count() + df_17.get_group('Feed').count() + df_17.get_group('feed').count()\n",
    "df_17_feed\n"
   ]
  },
  {
   "cell_type": "code",
   "execution_count": 75,
   "id": "2bb4bf08",
   "metadata": {},
   "outputs": [
    {
     "data": {
      "text/plain": [
       "Posicionamento    137\n",
       "Comentários       137\n",
       "dtype: int64"
      ]
     },
     "execution_count": 75,
     "metadata": {},
     "output_type": "execute_result"
    }
   ],
   "source": [
    "df_17_stories = df_17.get_group('Storie').count() + df_17.get_group('Stories').count() + df_17.get_group('Story').count() + df_17.get_group('stories').count()\n",
    "df_17_stories"
   ]
  },
  {
   "cell_type": "markdown",
   "id": "f42606d4",
   "metadata": {},
   "source": [
    "#### There are 25 and 137 posts without comments at Feed and Stories, in order."
   ]
  },
  {
   "cell_type": "markdown",
   "id": "f2a57b59",
   "metadata": {},
   "source": [
    "# How many post on IG feed since 29/10/2021?"
   ]
  },
  {
   "cell_type": "code",
   "execution_count": 77,
   "id": "d5c9fb07",
   "metadata": {},
   "outputs": [
    {
     "data": {
      "text/plain": [
       "Data              6\n",
       "Nome do Post      6\n",
       "Plataforma        6\n",
       "Posicionamento    6\n",
       "dtype: int64"
      ]
     },
     "execution_count": 77,
     "metadata": {},
     "output_type": "execute_result"
    }
   ],
   "source": [
    "df_18 = df.loc[:, ['Data', 'Nome do Post', 'Plataforma', 'Posicionamento']].dropna()\n",
    "filt = df_18['Data'] >= '2021-10-29'\n",
    "df_18 = df_18[filt].sort_values(by='Data')\n",
    "df_18_grp = df_18.groupby('Posicionamento')\n",
    "df_18_grp.get_group('Feed').count()"
   ]
  },
  {
   "cell_type": "markdown",
   "id": "79c43bd5",
   "metadata": {},
   "source": [
    "#### There are 6 since the date."
   ]
  },
  {
   "cell_type": "markdown",
   "id": "9829773b",
   "metadata": {},
   "source": [
    "# How many time each post was seem by users? Which one is the most seem?"
   ]
  },
  {
   "cell_type": "markdown",
   "id": "beb22276",
   "metadata": {},
   "source": [
    "#### Here I will consider the 3-Sec-Views and the 100% Views"
   ]
  },
  {
   "cell_type": "code",
   "execution_count": 78,
   "id": "f856dba2",
   "metadata": {},
   "outputs": [
    {
     "data": {
      "text/plain": [
       "Nome do Post          VoltasAulasUSP_Vídeo_Stories_Instagram_160821\n",
       "3-Sec-View                                                      0.0\n",
       "Visualizações 100%                                              0.0\n",
       "Total View                                                      NaN\n",
       "dtype: object"
      ]
     },
     "execution_count": 78,
     "metadata": {},
     "output_type": "execute_result"
    }
   ],
   "source": [
    "df_19 = df.loc[:, ['Nome do Post', '3-Sec-View', 'Visualizações 100%']].dropna()\n",
    "df_19['Total View'] = df_19.agg({'3-Sec-View': 'sum', 'Visualizações 100%': 'sum'})\n",
    "df_19.max()"
   ]
  },
  {
   "cell_type": "markdown",
   "id": "69df903e",
   "metadata": {},
   "source": [
    "#### Here we have a problem, there are no 3-Sec-Views or 100% Views, so it's not possible to use those datas, for a good aproximation we can use the reach collected before."
   ]
  },
  {
   "cell_type": "markdown",
   "id": "3c7e819e",
   "metadata": {},
   "source": [
    "# Which is the post with better reaction performance?"
   ]
  },
  {
   "cell_type": "markdown",
   "id": "4e3eef4a",
   "metadata": {},
   "source": [
    "#### To classificate ''Performance'' I usead the Reactions/Reach"
   ]
  },
  {
   "cell_type": "code",
   "execution_count": 80,
   "id": "669bfa1d",
   "metadata": {},
   "outputs": [
    {
     "data": {
      "text/html": [
       "<div>\n",
       "<style scoped>\n",
       "    .dataframe tbody tr th:only-of-type {\n",
       "        vertical-align: middle;\n",
       "    }\n",
       "\n",
       "    .dataframe tbody tr th {\n",
       "        vertical-align: top;\n",
       "    }\n",
       "\n",
       "    .dataframe thead th {\n",
       "        text-align: right;\n",
       "    }\n",
       "</style>\n",
       "<table border=\"1\" class=\"dataframe\">\n",
       "  <thead>\n",
       "    <tr style=\"text-align: right;\">\n",
       "      <th></th>\n",
       "      <th>Nome do Post</th>\n",
       "      <th>Alcance</th>\n",
       "      <th>Reações</th>\n",
       "      <th>Performance</th>\n",
       "    </tr>\n",
       "  </thead>\n",
       "  <tbody>\n",
       "    <tr>\n",
       "      <th>109</th>\n",
       "      <td>DiaDaPizza(2)_Vídeo_Stories_Instagram_100721</td>\n",
       "      <td>70.0</td>\n",
       "      <td>99999.0</td>\n",
       "      <td>1428.557143</td>\n",
       "    </tr>\n",
       "  </tbody>\n",
       "</table>\n",
       "</div>"
      ],
      "text/plain": [
       "                                     Nome do Post  Alcance  Reações  \\\n",
       "109  DiaDaPizza(2)_Vídeo_Stories_Instagram_100721     70.0  99999.0   \n",
       "\n",
       "     Performance  \n",
       "109  1428.557143  "
      ]
     },
     "execution_count": 80,
     "metadata": {},
     "output_type": "execute_result"
    }
   ],
   "source": [
    "df_20 = df.loc[:, ['Nome do Post', 'Alcance', 'Reações']].dropna()\n",
    "df_20['Performance'] = df_20['Reações'] / df_20['Alcance']\n",
    "df_20 = df_20.dropna()\n",
    "df_20[df_20.Performance == df_20.Performance.max()]"
   ]
  },
  {
   "cell_type": "markdown",
   "id": "09327f1e",
   "metadata": {},
   "source": [
    "#### Again excluding the bug/outiler."
   ]
  },
  {
   "cell_type": "code",
   "execution_count": 81,
   "id": "b387badd",
   "metadata": {},
   "outputs": [
    {
     "data": {
      "text/html": [
       "<div>\n",
       "<style scoped>\n",
       "    .dataframe tbody tr th:only-of-type {\n",
       "        vertical-align: middle;\n",
       "    }\n",
       "\n",
       "    .dataframe tbody tr th {\n",
       "        vertical-align: top;\n",
       "    }\n",
       "\n",
       "    .dataframe thead th {\n",
       "        text-align: right;\n",
       "    }\n",
       "</style>\n",
       "<table border=\"1\" class=\"dataframe\">\n",
       "  <thead>\n",
       "    <tr style=\"text-align: right;\">\n",
       "      <th></th>\n",
       "      <th>Nome do Post</th>\n",
       "      <th>Alcance</th>\n",
       "      <th>Reações</th>\n",
       "      <th>Performance</th>\n",
       "    </tr>\n",
       "  </thead>\n",
       "  <tbody>\n",
       "    <tr>\n",
       "      <th>177</th>\n",
       "      <td>IsabelleTamarozi(1)_Imagem_Feed_Instagram_280721</td>\n",
       "      <td>279.0</td>\n",
       "      <td>460.0</td>\n",
       "      <td>1.648746</td>\n",
       "    </tr>\n",
       "  </tbody>\n",
       "</table>\n",
       "</div>"
      ],
      "text/plain": [
       "                                         Nome do Post  Alcance  Reações  \\\n",
       "177  IsabelleTamarozi(1)_Imagem_Feed_Instagram_280721    279.0    460.0   \n",
       "\n",
       "     Performance  \n",
       "177     1.648746  "
      ]
     },
     "execution_count": 81,
     "metadata": {},
     "output_type": "execute_result"
    }
   ],
   "source": [
    "df_20 = df_20.drop([109])\n",
    "df_20[df_20.Performance == df_20.Performance.max()]"
   ]
  },
  {
   "cell_type": "markdown",
   "id": "24e47f04",
   "metadata": {},
   "source": [
    "# Which week days there're most reactions?"
   ]
  },
  {
   "cell_type": "code",
   "execution_count": 82,
   "id": "f00959fe",
   "metadata": {},
   "outputs": [
    {
     "data": {
      "text/plain": [
       "Data       Reações\n",
       "Friday     0.0        33\n",
       "           10.0        2\n",
       "           18.0        1\n",
       "           32.0        1\n",
       "           34.0        1\n",
       "                      ..\n",
       "Wednesday  88.0        1\n",
       "           9.0         1\n",
       "           48.0        1\n",
       "           32.0        1\n",
       "           1899.0      1\n",
       "Length: 71, dtype: int64"
      ]
     },
     "execution_count": 82,
     "metadata": {},
     "output_type": "execute_result"
    }
   ],
   "source": [
    "df_21 = df.loc[: , ['Data', 'Reações']].dropna()\n",
    "df_21['Data'] = df_21['Data'].dt.day_name()\n",
    "df_21_grp = df_21.groupby('Data')\n",
    "df_21_grp.value_counts()"
   ]
  },
  {
   "cell_type": "code",
   "execution_count": 83,
   "id": "bc74051c",
   "metadata": {},
   "outputs": [
    {
     "data": {
      "text/html": [
       "<div>\n",
       "<style scoped>\n",
       "    .dataframe tbody tr th:only-of-type {\n",
       "        vertical-align: middle;\n",
       "    }\n",
       "\n",
       "    .dataframe tbody tr th {\n",
       "        vertical-align: top;\n",
       "    }\n",
       "\n",
       "    .dataframe thead th {\n",
       "        text-align: right;\n",
       "    }\n",
       "</style>\n",
       "<table border=\"1\" class=\"dataframe\">\n",
       "  <thead>\n",
       "    <tr style=\"text-align: right;\">\n",
       "      <th></th>\n",
       "      <th>Reações</th>\n",
       "    </tr>\n",
       "    <tr>\n",
       "      <th>Data</th>\n",
       "      <th></th>\n",
       "    </tr>\n",
       "  </thead>\n",
       "  <tbody>\n",
       "    <tr>\n",
       "      <th>Friday</th>\n",
       "      <td>367.0</td>\n",
       "    </tr>\n",
       "    <tr>\n",
       "      <th>Monday</th>\n",
       "      <td>390.0</td>\n",
       "    </tr>\n",
       "    <tr>\n",
       "      <th>Saturday</th>\n",
       "      <td>100363.0</td>\n",
       "    </tr>\n",
       "    <tr>\n",
       "      <th>Sunday</th>\n",
       "      <td>135.0</td>\n",
       "    </tr>\n",
       "    <tr>\n",
       "      <th>Thursday</th>\n",
       "      <td>241.0</td>\n",
       "    </tr>\n",
       "    <tr>\n",
       "      <th>Tuesday</th>\n",
       "      <td>449.0</td>\n",
       "    </tr>\n",
       "    <tr>\n",
       "      <th>Wednesday</th>\n",
       "      <td>2740.0</td>\n",
       "    </tr>\n",
       "  </tbody>\n",
       "</table>\n",
       "</div>"
      ],
      "text/plain": [
       "            Reações\n",
       "Data               \n",
       "Friday        367.0\n",
       "Monday        390.0\n",
       "Saturday   100363.0\n",
       "Sunday        135.0\n",
       "Thursday      241.0\n",
       "Tuesday       449.0\n",
       "Wednesday    2740.0"
      ]
     },
     "execution_count": 83,
     "metadata": {},
     "output_type": "execute_result"
    }
   ],
   "source": [
    "df_21_grp.sum()"
   ]
  },
  {
   "cell_type": "markdown",
   "id": "076825c6",
   "metadata": {},
   "source": [
    "#### As we can see Saturday it's the one with most reactions, but we need to remember the bug/outlier, so Saturday will be counted as 100363.0 - 99999.0 = 364."
   ]
  },
  {
   "cell_type": "markdown",
   "id": "80fb5dd6",
   "metadata": {},
   "source": [
    "#### So, the day with most reactions is Wednesday. But it's so far from the other days, just in case I will see which one is that post."
   ]
  },
  {
   "cell_type": "code",
   "execution_count": 84,
   "id": "30ddf564",
   "metadata": {},
   "outputs": [
    {
     "data": {
      "text/html": [
       "<div>\n",
       "<style scoped>\n",
       "    .dataframe tbody tr th:only-of-type {\n",
       "        vertical-align: middle;\n",
       "    }\n",
       "\n",
       "    .dataframe tbody tr th {\n",
       "        vertical-align: top;\n",
       "    }\n",
       "\n",
       "    .dataframe thead th {\n",
       "        text-align: right;\n",
       "    }\n",
       "</style>\n",
       "<table border=\"1\" class=\"dataframe\">\n",
       "  <thead>\n",
       "    <tr style=\"text-align: right;\">\n",
       "      <th></th>\n",
       "      <th>Nome do Post</th>\n",
       "      <th>Reações</th>\n",
       "    </tr>\n",
       "    <tr>\n",
       "      <th>Data</th>\n",
       "      <th></th>\n",
       "      <th></th>\n",
       "    </tr>\n",
       "  </thead>\n",
       "  <tbody>\n",
       "    <tr>\n",
       "      <th>Friday</th>\n",
       "      <td>XadrezNoIME(1)_Imagem_Feed_LinkedIn_300721</td>\n",
       "      <td>94.0</td>\n",
       "    </tr>\n",
       "    <tr>\n",
       "      <th>Monday</th>\n",
       "      <td>VoltasAulasUSP_Vídeo_Stories_Instagram_160821</td>\n",
       "      <td>79.0</td>\n",
       "    </tr>\n",
       "    <tr>\n",
       "      <th>Saturday</th>\n",
       "      <td>PrintReuniãoGeral_Imagem_Stories_Instagram_290521</td>\n",
       "      <td>99999.0</td>\n",
       "    </tr>\n",
       "    <tr>\n",
       "      <th>Sunday</th>\n",
       "      <td>SemanaMeioAmbiente_Imagem_Feed_Instagram_060621</td>\n",
       "      <td>76.0</td>\n",
       "    </tr>\n",
       "    <tr>\n",
       "      <th>Thursday</th>\n",
       "      <td>XadrezNoIME(2)_Imagem_Feed_LinkedIn_050821</td>\n",
       "      <td>73.0</td>\n",
       "    </tr>\n",
       "    <tr>\n",
       "      <th>Tuesday</th>\n",
       "      <td>SetembroAmarelo_Imagem_Feed_LinkedIn_210921</td>\n",
       "      <td>119.0</td>\n",
       "    </tr>\n",
       "    <tr>\n",
       "      <th>Wednesday</th>\n",
       "      <td>SemanaPreFuvest_Imagem_Feed_Instagram_060121</td>\n",
       "      <td>1899.0</td>\n",
       "    </tr>\n",
       "  </tbody>\n",
       "</table>\n",
       "</div>"
      ],
      "text/plain": [
       "                                                Nome do Post  Reações\n",
       "Data                                                                 \n",
       "Friday            XadrezNoIME(1)_Imagem_Feed_LinkedIn_300721     94.0\n",
       "Monday         VoltasAulasUSP_Vídeo_Stories_Instagram_160821     79.0\n",
       "Saturday   PrintReuniãoGeral_Imagem_Stories_Instagram_290521  99999.0\n",
       "Sunday       SemanaMeioAmbiente_Imagem_Feed_Instagram_060621     76.0\n",
       "Thursday          XadrezNoIME(2)_Imagem_Feed_LinkedIn_050821     73.0\n",
       "Tuesday          SetembroAmarelo_Imagem_Feed_LinkedIn_210921    119.0\n",
       "Wednesday       SemanaPreFuvest_Imagem_Feed_Instagram_060121   1899.0"
      ]
     },
     "execution_count": 84,
     "metadata": {},
     "output_type": "execute_result"
    }
   ],
   "source": [
    "df_21_second = df.loc[: , ['Nome do Post','Data', 'Reações']].dropna()\n",
    "df_21_second['Data'] = df_21_second['Data'].dt.day_name()\n",
    "df_21_grp_second = df_21_second.groupby('Data')\n",
    "df_21_grp_second.max()"
   ]
  },
  {
   "cell_type": "markdown",
   "id": "b3560c6d",
   "metadata": {},
   "source": [
    "#### As we can see it's a post about Fuvest, so it isn't a bug, just a post that hitted and it's responsable for more than 50% of the reactions at the day."
   ]
  },
  {
   "cell_type": "markdown",
   "id": "9a8e8c45",
   "metadata": {},
   "source": [
    "# What is the total of impressions that the posts with ''DiaDoDesafio'' has?"
   ]
  },
  {
   "cell_type": "code",
   "execution_count": 85,
   "id": "2c25d298",
   "metadata": {},
   "outputs": [
    {
     "data": {
      "text/html": [
       "<div>\n",
       "<style scoped>\n",
       "    .dataframe tbody tr th:only-of-type {\n",
       "        vertical-align: middle;\n",
       "    }\n",
       "\n",
       "    .dataframe tbody tr th {\n",
       "        vertical-align: top;\n",
       "    }\n",
       "\n",
       "    .dataframe thead th {\n",
       "        text-align: right;\n",
       "    }\n",
       "</style>\n",
       "<table border=\"1\" class=\"dataframe\">\n",
       "  <thead>\n",
       "    <tr style=\"text-align: right;\">\n",
       "      <th></th>\n",
       "      <th>Criativo</th>\n",
       "      <th>Impressões</th>\n",
       "    </tr>\n",
       "  </thead>\n",
       "  <tbody>\n",
       "    <tr>\n",
       "      <th>120</th>\n",
       "      <td>DiaDoDesafio(1)</td>\n",
       "      <td>194.0</td>\n",
       "    </tr>\n",
       "    <tr>\n",
       "      <th>121</th>\n",
       "      <td>DiaDoDesafio(10)</td>\n",
       "      <td>116.0</td>\n",
       "    </tr>\n",
       "    <tr>\n",
       "      <th>122</th>\n",
       "      <td>DiaDoDesafio(2)</td>\n",
       "      <td>172.0</td>\n",
       "    </tr>\n",
       "    <tr>\n",
       "      <th>123</th>\n",
       "      <td>DiaDoDesafio(3)</td>\n",
       "      <td>156.0</td>\n",
       "    </tr>\n",
       "    <tr>\n",
       "      <th>124</th>\n",
       "      <td>DiaDoDesafio(4)</td>\n",
       "      <td>150.0</td>\n",
       "    </tr>\n",
       "    <tr>\n",
       "      <th>125</th>\n",
       "      <td>DiaDoDesafio(5)</td>\n",
       "      <td>139.0</td>\n",
       "    </tr>\n",
       "    <tr>\n",
       "      <th>126</th>\n",
       "      <td>DiaDoDesafio(6)</td>\n",
       "      <td>136.0</td>\n",
       "    </tr>\n",
       "    <tr>\n",
       "      <th>127</th>\n",
       "      <td>DiaDoDesafio(7)</td>\n",
       "      <td>132.0</td>\n",
       "    </tr>\n",
       "    <tr>\n",
       "      <th>128</th>\n",
       "      <td>DiaDoDesafio(8)</td>\n",
       "      <td>128.0</td>\n",
       "    </tr>\n",
       "    <tr>\n",
       "      <th>129</th>\n",
       "      <td>DiaDoDesafio(9)</td>\n",
       "      <td>120.0</td>\n",
       "    </tr>\n",
       "  </tbody>\n",
       "</table>\n",
       "</div>"
      ],
      "text/plain": [
       "             Criativo  Impressões\n",
       "120   DiaDoDesafio(1)       194.0\n",
       "121  DiaDoDesafio(10)       116.0\n",
       "122   DiaDoDesafio(2)       172.0\n",
       "123   DiaDoDesafio(3)       156.0\n",
       "124   DiaDoDesafio(4)       150.0\n",
       "125   DiaDoDesafio(5)       139.0\n",
       "126   DiaDoDesafio(6)       136.0\n",
       "127   DiaDoDesafio(7)       132.0\n",
       "128   DiaDoDesafio(8)       128.0\n",
       "129   DiaDoDesafio(9)       120.0"
      ]
     },
     "execution_count": 85,
     "metadata": {},
     "output_type": "execute_result"
    }
   ],
   "source": [
    "df_22 = df.loc[:, ['Criativo', 'Impressões']].dropna()\n",
    "df_22 = df_22[df_22['Criativo'].str.contains('DiaDoDesafio')]\n",
    "df_22"
   ]
  },
  {
   "cell_type": "code",
   "execution_count": 86,
   "id": "25f5fb9a",
   "metadata": {},
   "outputs": [
    {
     "data": {
      "text/plain": [
       "1443.0"
      ]
     },
     "execution_count": 86,
     "metadata": {},
     "output_type": "execute_result"
    }
   ],
   "source": [
    "df_22['Impressões'].sum()"
   ]
  },
  {
   "cell_type": "markdown",
   "id": "998429ed",
   "metadata": {},
   "source": [
    "# How many like the post about ''Isabelle Tamarozi'' has? Was it a good post? Why?"
   ]
  },
  {
   "cell_type": "code",
   "execution_count": 87,
   "id": "f1bc693f",
   "metadata": {},
   "outputs": [
    {
     "data": {
      "text/html": [
       "<div>\n",
       "<style scoped>\n",
       "    .dataframe tbody tr th:only-of-type {\n",
       "        vertical-align: middle;\n",
       "    }\n",
       "\n",
       "    .dataframe tbody tr th {\n",
       "        vertical-align: top;\n",
       "    }\n",
       "\n",
       "    .dataframe thead th {\n",
       "        text-align: right;\n",
       "    }\n",
       "</style>\n",
       "<table border=\"1\" class=\"dataframe\">\n",
       "  <thead>\n",
       "    <tr style=\"text-align: right;\">\n",
       "      <th></th>\n",
       "      <th>Nome do Post</th>\n",
       "      <th>Alcance</th>\n",
       "      <th>Reações</th>\n",
       "      <th>Performance</th>\n",
       "    </tr>\n",
       "  </thead>\n",
       "  <tbody>\n",
       "    <tr>\n",
       "      <th>177</th>\n",
       "      <td>IsabelleTamarozi(1)_Imagem_Feed_Instagram_280721</td>\n",
       "      <td>279.0</td>\n",
       "      <td>460.0</td>\n",
       "      <td>1.648746</td>\n",
       "    </tr>\n",
       "  </tbody>\n",
       "</table>\n",
       "</div>"
      ],
      "text/plain": [
       "                                         Nome do Post  Alcance  Reações  \\\n",
       "177  IsabelleTamarozi(1)_Imagem_Feed_Instagram_280721    279.0    460.0   \n",
       "\n",
       "     Performance  \n",
       "177     1.648746  "
      ]
     },
     "execution_count": 87,
     "metadata": {},
     "output_type": "execute_result"
    }
   ],
   "source": [
    "df_20[df_20.Performance == df_20.Performance.max()]"
   ]
  },
  {
   "cell_type": "markdown",
   "id": "ea90370f",
   "metadata": {},
   "source": [
    "#### As we can see it has 460 reactions (considering that reactions = likes). So it was a really great post with a really nice performance. "
   ]
  },
  {
   "cell_type": "markdown",
   "id": "b5b0ed4b",
   "metadata": {},
   "source": [
    "# What is the name of the best story? Why?"
   ]
  },
  {
   "cell_type": "code",
   "execution_count": 93,
   "id": "7c9b64c2",
   "metadata": {},
   "outputs": [
    {
     "data": {
      "text/html": [
       "<div>\n",
       "<style scoped>\n",
       "    .dataframe tbody tr th:only-of-type {\n",
       "        vertical-align: middle;\n",
       "    }\n",
       "\n",
       "    .dataframe tbody tr th {\n",
       "        vertical-align: top;\n",
       "    }\n",
       "\n",
       "    .dataframe thead th {\n",
       "        text-align: right;\n",
       "    }\n",
       "</style>\n",
       "<table border=\"1\" class=\"dataframe\">\n",
       "  <thead>\n",
       "    <tr style=\"text-align: right;\">\n",
       "      <th></th>\n",
       "      <th>Nome do Post</th>\n",
       "      <th>Posicionamento</th>\n",
       "      <th>Alcance</th>\n",
       "      <th>Reações</th>\n",
       "      <th>Impressões</th>\n",
       "      <th>Performance</th>\n",
       "    </tr>\n",
       "  </thead>\n",
       "  <tbody>\n",
       "    <tr>\n",
       "      <th>14</th>\n",
       "      <td>DadosPopulação(1)_Vídeo_Stories_Instagram_170721</td>\n",
       "      <td>Stories</td>\n",
       "      <td>120.0</td>\n",
       "      <td>0.0</td>\n",
       "      <td>123.0</td>\n",
       "      <td>0.000000</td>\n",
       "    </tr>\n",
       "    <tr>\n",
       "      <th>15</th>\n",
       "      <td>DadosPopulação(2)_Vídeo_Stories_Instagram_170721</td>\n",
       "      <td>Stories</td>\n",
       "      <td>106.0</td>\n",
       "      <td>0.0</td>\n",
       "      <td>109.0</td>\n",
       "      <td>0.000000</td>\n",
       "    </tr>\n",
       "    <tr>\n",
       "      <th>16</th>\n",
       "      <td>DadosPopulação(3)_Vídeo_Stories_Instagram_170721</td>\n",
       "      <td>Stories</td>\n",
       "      <td>99.0</td>\n",
       "      <td>0.0</td>\n",
       "      <td>100.0</td>\n",
       "      <td>0.000000</td>\n",
       "    </tr>\n",
       "    <tr>\n",
       "      <th>17</th>\n",
       "      <td>DadosPopulação(4)_Vídeo_Stories_Instagram_170721</td>\n",
       "      <td>Stories</td>\n",
       "      <td>97.0</td>\n",
       "      <td>0.0</td>\n",
       "      <td>98.0</td>\n",
       "      <td>0.000000</td>\n",
       "    </tr>\n",
       "    <tr>\n",
       "      <th>18</th>\n",
       "      <td>DadosPopulação(5)_Vídeo_Stories_Instagram_170721</td>\n",
       "      <td>Stories</td>\n",
       "      <td>93.0</td>\n",
       "      <td>0.0</td>\n",
       "      <td>95.0</td>\n",
       "      <td>0.000000</td>\n",
       "    </tr>\n",
       "    <tr>\n",
       "      <th>...</th>\n",
       "      <td>...</td>\n",
       "      <td>...</td>\n",
       "      <td>...</td>\n",
       "      <td>...</td>\n",
       "      <td>...</td>\n",
       "      <td>...</td>\n",
       "    </tr>\n",
       "    <tr>\n",
       "      <th>203</th>\n",
       "      <td>Round6(3)_Vídeo_Stories_Instagram_191021</td>\n",
       "      <td>Stories</td>\n",
       "      <td>97.0</td>\n",
       "      <td>0.0</td>\n",
       "      <td>98.0</td>\n",
       "      <td>0.000000</td>\n",
       "    </tr>\n",
       "    <tr>\n",
       "      <th>204</th>\n",
       "      <td>Round6(4)_Vídeo_Stories_Instagram_191021</td>\n",
       "      <td>Stories</td>\n",
       "      <td>97.0</td>\n",
       "      <td>0.0</td>\n",
       "      <td>97.0</td>\n",
       "      <td>0.000000</td>\n",
       "    </tr>\n",
       "    <tr>\n",
       "      <th>205</th>\n",
       "      <td>Round6(5)_Vídeo_Stories_Instagram_191021</td>\n",
       "      <td>Stories</td>\n",
       "      <td>96.0</td>\n",
       "      <td>2.0</td>\n",
       "      <td>96.0</td>\n",
       "      <td>0.020833</td>\n",
       "    </tr>\n",
       "    <tr>\n",
       "      <th>206</th>\n",
       "      <td>Round6(6)_Vídeo_Stories_Instagram_191021</td>\n",
       "      <td>Stories</td>\n",
       "      <td>95.0</td>\n",
       "      <td>1.0</td>\n",
       "      <td>95.0</td>\n",
       "      <td>0.010526</td>\n",
       "    </tr>\n",
       "    <tr>\n",
       "      <th>227</th>\n",
       "      <td>VoltasAulasUSP_Vídeo_Stories_Instagram_160821</td>\n",
       "      <td>Storie</td>\n",
       "      <td>49.0</td>\n",
       "      <td>0.0</td>\n",
       "      <td>49.0</td>\n",
       "      <td>0.000000</td>\n",
       "    </tr>\n",
       "  </tbody>\n",
       "</table>\n",
       "<p>104 rows × 6 columns</p>\n",
       "</div>"
      ],
      "text/plain": [
       "                                         Nome do Post Posicionamento  Alcance  \\\n",
       "14   DadosPopulação(1)_Vídeo_Stories_Instagram_170721        Stories    120.0   \n",
       "15   DadosPopulação(2)_Vídeo_Stories_Instagram_170721        Stories    106.0   \n",
       "16   DadosPopulação(3)_Vídeo_Stories_Instagram_170721        Stories     99.0   \n",
       "17   DadosPopulação(4)_Vídeo_Stories_Instagram_170721        Stories     97.0   \n",
       "18   DadosPopulação(5)_Vídeo_Stories_Instagram_170721        Stories     93.0   \n",
       "..                                                ...            ...      ...   \n",
       "203          Round6(3)_Vídeo_Stories_Instagram_191021        Stories     97.0   \n",
       "204          Round6(4)_Vídeo_Stories_Instagram_191021        Stories     97.0   \n",
       "205          Round6(5)_Vídeo_Stories_Instagram_191021        Stories     96.0   \n",
       "206          Round6(6)_Vídeo_Stories_Instagram_191021        Stories     95.0   \n",
       "227     VoltasAulasUSP_Vídeo_Stories_Instagram_160821         Storie     49.0   \n",
       "\n",
       "     Reações  Impressões  Performance  \n",
       "14       0.0       123.0     0.000000  \n",
       "15       0.0       109.0     0.000000  \n",
       "16       0.0       100.0     0.000000  \n",
       "17       0.0        98.0     0.000000  \n",
       "18       0.0        95.0     0.000000  \n",
       "..       ...         ...          ...  \n",
       "203      0.0        98.0     0.000000  \n",
       "204      0.0        97.0     0.000000  \n",
       "205      2.0        96.0     0.020833  \n",
       "206      1.0        95.0     0.010526  \n",
       "227      0.0        49.0     0.000000  \n",
       "\n",
       "[104 rows x 6 columns]"
      ]
     },
     "execution_count": 93,
     "metadata": {},
     "output_type": "execute_result"
    }
   ],
   "source": [
    "df_24 = df.loc[:, ['Nome do Post', 'Posicionamento', 'Alcance', 'Reações', 'Impressões']].dropna()\n",
    "df_24 = df_24[df_24['Posicionamento'].str.contains('St', 'st')]\n",
    "df_24['Performance'] = df_24['Reações'] / df_24['Alcance']\n",
    "df_24"
   ]
  },
  {
   "cell_type": "code",
   "execution_count": 94,
   "id": "9de81e8f",
   "metadata": {},
   "outputs": [
    {
     "data": {
      "text/html": [
       "<div>\n",
       "<style scoped>\n",
       "    .dataframe tbody tr th:only-of-type {\n",
       "        vertical-align: middle;\n",
       "    }\n",
       "\n",
       "    .dataframe tbody tr th {\n",
       "        vertical-align: top;\n",
       "    }\n",
       "\n",
       "    .dataframe thead th {\n",
       "        text-align: right;\n",
       "    }\n",
       "</style>\n",
       "<table border=\"1\" class=\"dataframe\">\n",
       "  <thead>\n",
       "    <tr style=\"text-align: right;\">\n",
       "      <th></th>\n",
       "      <th>Nome do Post</th>\n",
       "      <th>Posicionamento</th>\n",
       "      <th>Alcance</th>\n",
       "      <th>Reações</th>\n",
       "      <th>Impressões</th>\n",
       "      <th>Performance</th>\n",
       "    </tr>\n",
       "  </thead>\n",
       "  <tbody>\n",
       "    <tr>\n",
       "      <th>109</th>\n",
       "      <td>DiaDaPizza(2)_Vídeo_Stories_Instagram_100721</td>\n",
       "      <td>Storie</td>\n",
       "      <td>70.0</td>\n",
       "      <td>99999.0</td>\n",
       "      <td>70.0</td>\n",
       "      <td>1428.557143</td>\n",
       "    </tr>\n",
       "  </tbody>\n",
       "</table>\n",
       "</div>"
      ],
      "text/plain": [
       "                                     Nome do Post Posicionamento  Alcance  \\\n",
       "109  DiaDaPizza(2)_Vídeo_Stories_Instagram_100721         Storie     70.0   \n",
       "\n",
       "     Reações  Impressões  Performance  \n",
       "109  99999.0        70.0  1428.557143  "
      ]
     },
     "execution_count": 94,
     "metadata": {},
     "output_type": "execute_result"
    }
   ],
   "source": [
    "df_24 = df_24.replace(np.inf, np.nan)\n",
    "df_24[df_24.Performance == df_24.Performance.max()]"
   ]
  },
  {
   "cell_type": "markdown",
   "id": "9e823898",
   "metadata": {},
   "source": [
    "#### Again our problem with the bug/outlier, I will exclude it and continue."
   ]
  },
  {
   "cell_type": "code",
   "execution_count": 95,
   "id": "6b5567a0",
   "metadata": {},
   "outputs": [
    {
     "data": {
      "text/html": [
       "<div>\n",
       "<style scoped>\n",
       "    .dataframe tbody tr th:only-of-type {\n",
       "        vertical-align: middle;\n",
       "    }\n",
       "\n",
       "    .dataframe tbody tr th {\n",
       "        vertical-align: top;\n",
       "    }\n",
       "\n",
       "    .dataframe thead th {\n",
       "        text-align: right;\n",
       "    }\n",
       "</style>\n",
       "<table border=\"1\" class=\"dataframe\">\n",
       "  <thead>\n",
       "    <tr style=\"text-align: right;\">\n",
       "      <th></th>\n",
       "      <th>Nome do Post</th>\n",
       "      <th>Posicionamento</th>\n",
       "      <th>Alcance</th>\n",
       "      <th>Reações</th>\n",
       "      <th>Impressões</th>\n",
       "      <th>Performance</th>\n",
       "    </tr>\n",
       "  </thead>\n",
       "  <tbody>\n",
       "    <tr>\n",
       "      <th>118</th>\n",
       "      <td>DiaDoAtletismo_Imagem_Stories_Instagram_091021</td>\n",
       "      <td>Storie</td>\n",
       "      <td>87.0</td>\n",
       "      <td>2.0</td>\n",
       "      <td>88.0</td>\n",
       "      <td>0.022989</td>\n",
       "    </tr>\n",
       "  </tbody>\n",
       "</table>\n",
       "</div>"
      ],
      "text/plain": [
       "                                       Nome do Post Posicionamento  Alcance  \\\n",
       "118  DiaDoAtletismo_Imagem_Stories_Instagram_091021         Storie     87.0   \n",
       "\n",
       "     Reações  Impressões  Performance  \n",
       "118      2.0        88.0     0.022989  "
      ]
     },
     "execution_count": 95,
     "metadata": {},
     "output_type": "execute_result"
    }
   ],
   "source": [
    "df_24 = df_24.drop([109])\n",
    "df_24[df_24.Performance == df_24.Performance.max()]"
   ]
  },
  {
   "cell_type": "markdown",
   "id": "37fc9059",
   "metadata": {},
   "source": [
    "#### Another way to see if is a story nice it's looking only to it reach:"
   ]
  },
  {
   "cell_type": "code",
   "execution_count": 96,
   "id": "7352fbfd",
   "metadata": {},
   "outputs": [
    {
     "data": {
      "text/html": [
       "<div>\n",
       "<style scoped>\n",
       "    .dataframe tbody tr th:only-of-type {\n",
       "        vertical-align: middle;\n",
       "    }\n",
       "\n",
       "    .dataframe tbody tr th {\n",
       "        vertical-align: top;\n",
       "    }\n",
       "\n",
       "    .dataframe thead th {\n",
       "        text-align: right;\n",
       "    }\n",
       "</style>\n",
       "<table border=\"1\" class=\"dataframe\">\n",
       "  <thead>\n",
       "    <tr style=\"text-align: right;\">\n",
       "      <th></th>\n",
       "      <th>Nome do Post</th>\n",
       "      <th>Posicionamento</th>\n",
       "      <th>Alcance</th>\n",
       "      <th>Reações</th>\n",
       "      <th>Impressões</th>\n",
       "      <th>Performance</th>\n",
       "    </tr>\n",
       "  </thead>\n",
       "  <tbody>\n",
       "    <tr>\n",
       "      <th>147</th>\n",
       "      <td>DiaMundiaDoadorDeSangue_Vídeo_Stories_Instagra...</td>\n",
       "      <td>Story</td>\n",
       "      <td>6600.0</td>\n",
       "      <td>0.0</td>\n",
       "      <td>67.0</td>\n",
       "      <td>0.0</td>\n",
       "    </tr>\n",
       "  </tbody>\n",
       "</table>\n",
       "</div>"
      ],
      "text/plain": [
       "                                          Nome do Post Posicionamento  \\\n",
       "147  DiaMundiaDoadorDeSangue_Vídeo_Stories_Instagra...          Story   \n",
       "\n",
       "     Alcance  Reações  Impressões  Performance  \n",
       "147   6600.0      0.0        67.0          0.0  "
      ]
     },
     "execution_count": 96,
     "metadata": {},
     "output_type": "execute_result"
    }
   ],
   "source": [
    "df_24[df_24.Alcance == df_24.Alcance.max()]"
   ]
  },
  {
   "cell_type": "markdown",
   "id": "f0cf0573",
   "metadata": {},
   "source": [
    "#### But there's a problem, we can see that the reach > impressions, that's impossible on IG, so I will exclude that data and continue."
   ]
  },
  {
   "cell_type": "code",
   "execution_count": 97,
   "id": "621c9860",
   "metadata": {},
   "outputs": [
    {
     "data": {
      "text/html": [
       "<div>\n",
       "<style scoped>\n",
       "    .dataframe tbody tr th:only-of-type {\n",
       "        vertical-align: middle;\n",
       "    }\n",
       "\n",
       "    .dataframe tbody tr th {\n",
       "        vertical-align: top;\n",
       "    }\n",
       "\n",
       "    .dataframe thead th {\n",
       "        text-align: right;\n",
       "    }\n",
       "</style>\n",
       "<table border=\"1\" class=\"dataframe\">\n",
       "  <thead>\n",
       "    <tr style=\"text-align: right;\">\n",
       "      <th></th>\n",
       "      <th>Nome do Post</th>\n",
       "      <th>Posicionamento</th>\n",
       "      <th>Alcance</th>\n",
       "      <th>Reações</th>\n",
       "      <th>Impressões</th>\n",
       "      <th>Performance</th>\n",
       "    </tr>\n",
       "  </thead>\n",
       "  <tbody>\n",
       "    <tr>\n",
       "      <th>120</th>\n",
       "      <td>DiaDoDesafio(1)_Imagem_Stories_Instagram_260521</td>\n",
       "      <td>Stories</td>\n",
       "      <td>189.0</td>\n",
       "      <td>0.0</td>\n",
       "      <td>194.0</td>\n",
       "      <td>0.0</td>\n",
       "    </tr>\n",
       "  </tbody>\n",
       "</table>\n",
       "</div>"
      ],
      "text/plain": [
       "                                        Nome do Post Posicionamento  Alcance  \\\n",
       "120  DiaDoDesafio(1)_Imagem_Stories_Instagram_260521        Stories    189.0   \n",
       "\n",
       "     Reações  Impressões  Performance  \n",
       "120      0.0       194.0          0.0  "
      ]
     },
     "execution_count": 97,
     "metadata": {},
     "output_type": "execute_result"
    }
   ],
   "source": [
    "df_24 = df_24.drop([147])\n",
    "df_24[df_24.Alcance == df_24.Alcance.max()]"
   ]
  },
  {
   "cell_type": "markdown",
   "id": "a7b6d6e5",
   "metadata": {},
   "source": [
    "#### PS: That problem can affect previous datas collected"
   ]
  },
  {
   "cell_type": "code",
   "execution_count": null,
   "id": "916e519a",
   "metadata": {},
   "outputs": [],
   "source": []
  }
 ],
 "metadata": {
  "kernelspec": {
   "display_name": "Python 3 (ipykernel)",
   "language": "python",
   "name": "python3"
  },
  "language_info": {
   "codemirror_mode": {
    "name": "ipython",
    "version": 3
   },
   "file_extension": ".py",
   "mimetype": "text/x-python",
   "name": "python",
   "nbconvert_exporter": "python",
   "pygments_lexer": "ipython3",
   "version": "3.10.2"
  }
 },
 "nbformat": 4,
 "nbformat_minor": 5
}
